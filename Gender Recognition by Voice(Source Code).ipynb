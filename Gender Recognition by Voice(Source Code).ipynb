{
  "metadata": {
    "kernelspec": {
      "display_name": "Python 3",
      "language": "python",
      "name": "python3"
    },
    "language_info": {
      "name": "python",
      "version": "3.6.6",
      "mimetype": "text/x-python",
      "codemirror_mode": {
        "name": "ipython",
        "version": 3
      },
      "pygments_lexer": "ipython3",
      "nbconvert_exporter": "python",
      "file_extension": ".py"
    },
    "colab": {
      "provenance": []
    }
  },
  "nbformat_minor": 0,
  "nbformat": 4,
  "cells": [
    {
      "cell_type": "markdown",
      "source": [
        "K-Nearest Neighbors  \n",
        "Naive Bayes  \n",
        "Decision Tree  \n",
        "Random Forest  \n",
        "XgBoost  \n",
        "Support Vector Machine  \n",
        "Neural Network"
      ],
      "metadata": {
        "_uuid": "dd4ba8058395bd3c8905074f9955f7e3ab30109a",
        "id": "MI3py88ZYZ_k"
      }
    },
    {
      "cell_type": "code",
      "source": [
        "\n",
        "\n",
        "import numpy as np # linear algebra\n",
        "import pandas as pd # data processing, CSV file I/O (e.g. pd.read_csv)\n",
        "\n",
        "\n",
        "import os\n",
        "\n"
      ],
      "metadata": {
        "_uuid": "8f2839f25d086af736a60e9eeb907d3b93b6e0e5",
        "_cell_guid": "b1076dfc-b9ad-4769-8c92-a6c4dae69d19",
        "trusted": true,
        "id": "3d_u0628YZ_q"
      },
      "execution_count": 8,
      "outputs": []
    },
    {
      "cell_type": "code",
      "source": [
        "import warnings\n",
        "warnings.filterwarnings('ignore')\n",
        "# read file\n",
        "voice=pd.read_csv('/voice.csv')\n",
        "voice.head()"
      ],
      "metadata": {
        "_cell_guid": "79c7e3d0-c299-4dcb-8224-4455121ee9b0",
        "_uuid": "d629ff2d2480ee46fbb7e2d37f6b5fab8052498a",
        "trusted": true,
        "colab": {
          "base_uri": "https://localhost:8080/",
          "height": 299
        },
        "id": "O-309s1qYZ_u",
        "outputId": "bd6f9070-c972-43a3-a3a6-9cb1fbcb5dd9"
      },
      "execution_count": 9,
      "outputs": [
        {
          "output_type": "execute_result",
          "data": {
            "text/plain": [
              "   meanfreq        sd    median       Q25       Q75       IQR       skew  \\\n",
              "0  0.059781  0.064241  0.032027  0.015071  0.090193  0.075122  12.863462   \n",
              "1  0.066009  0.067310  0.040229  0.019414  0.092666  0.073252  22.423285   \n",
              "2  0.077316  0.083829  0.036718  0.008701  0.131908  0.123207  30.757155   \n",
              "3  0.151228  0.072111  0.158011  0.096582  0.207955  0.111374   1.232831   \n",
              "4  0.135120  0.079146  0.124656  0.078720  0.206045  0.127325   1.101174   \n",
              "\n",
              "          kurt    sp.ent       sfm  ...  centroid   meanfun    minfun  \\\n",
              "0   274.402906  0.893369  0.491918  ...  0.059781  0.084279  0.015702   \n",
              "1   634.613855  0.892193  0.513724  ...  0.066009  0.107937  0.015826   \n",
              "2  1024.927705  0.846389  0.478905  ...  0.077316  0.098706  0.015656   \n",
              "3     4.177296  0.963322  0.727232  ...  0.151228  0.088965  0.017798   \n",
              "4     4.333713  0.971955  0.783568  ...  0.135120  0.106398  0.016931   \n",
              "\n",
              "     maxfun   meandom    mindom    maxdom   dfrange   modindx  label  \n",
              "0  0.275862  0.007812  0.007812  0.007812  0.000000  0.000000   male  \n",
              "1  0.250000  0.009014  0.007812  0.054688  0.046875  0.052632   male  \n",
              "2  0.271186  0.007990  0.007812  0.015625  0.007812  0.046512   male  \n",
              "3  0.250000  0.201497  0.007812  0.562500  0.554688  0.247119   male  \n",
              "4  0.266667  0.712812  0.007812  5.484375  5.476562  0.208274   male  \n",
              "\n",
              "[5 rows x 21 columns]"
            ],
            "text/html": [
              "\n",
              "  <div id=\"df-1e83154a-700e-44b6-97b0-62531c6c47e2\">\n",
              "    <div class=\"colab-df-container\">\n",
              "      <div>\n",
              "<style scoped>\n",
              "    .dataframe tbody tr th:only-of-type {\n",
              "        vertical-align: middle;\n",
              "    }\n",
              "\n",
              "    .dataframe tbody tr th {\n",
              "        vertical-align: top;\n",
              "    }\n",
              "\n",
              "    .dataframe thead th {\n",
              "        text-align: right;\n",
              "    }\n",
              "</style>\n",
              "<table border=\"1\" class=\"dataframe\">\n",
              "  <thead>\n",
              "    <tr style=\"text-align: right;\">\n",
              "      <th></th>\n",
              "      <th>meanfreq</th>\n",
              "      <th>sd</th>\n",
              "      <th>median</th>\n",
              "      <th>Q25</th>\n",
              "      <th>Q75</th>\n",
              "      <th>IQR</th>\n",
              "      <th>skew</th>\n",
              "      <th>kurt</th>\n",
              "      <th>sp.ent</th>\n",
              "      <th>sfm</th>\n",
              "      <th>...</th>\n",
              "      <th>centroid</th>\n",
              "      <th>meanfun</th>\n",
              "      <th>minfun</th>\n",
              "      <th>maxfun</th>\n",
              "      <th>meandom</th>\n",
              "      <th>mindom</th>\n",
              "      <th>maxdom</th>\n",
              "      <th>dfrange</th>\n",
              "      <th>modindx</th>\n",
              "      <th>label</th>\n",
              "    </tr>\n",
              "  </thead>\n",
              "  <tbody>\n",
              "    <tr>\n",
              "      <th>0</th>\n",
              "      <td>0.059781</td>\n",
              "      <td>0.064241</td>\n",
              "      <td>0.032027</td>\n",
              "      <td>0.015071</td>\n",
              "      <td>0.090193</td>\n",
              "      <td>0.075122</td>\n",
              "      <td>12.863462</td>\n",
              "      <td>274.402906</td>\n",
              "      <td>0.893369</td>\n",
              "      <td>0.491918</td>\n",
              "      <td>...</td>\n",
              "      <td>0.059781</td>\n",
              "      <td>0.084279</td>\n",
              "      <td>0.015702</td>\n",
              "      <td>0.275862</td>\n",
              "      <td>0.007812</td>\n",
              "      <td>0.007812</td>\n",
              "      <td>0.007812</td>\n",
              "      <td>0.000000</td>\n",
              "      <td>0.000000</td>\n",
              "      <td>male</td>\n",
              "    </tr>\n",
              "    <tr>\n",
              "      <th>1</th>\n",
              "      <td>0.066009</td>\n",
              "      <td>0.067310</td>\n",
              "      <td>0.040229</td>\n",
              "      <td>0.019414</td>\n",
              "      <td>0.092666</td>\n",
              "      <td>0.073252</td>\n",
              "      <td>22.423285</td>\n",
              "      <td>634.613855</td>\n",
              "      <td>0.892193</td>\n",
              "      <td>0.513724</td>\n",
              "      <td>...</td>\n",
              "      <td>0.066009</td>\n",
              "      <td>0.107937</td>\n",
              "      <td>0.015826</td>\n",
              "      <td>0.250000</td>\n",
              "      <td>0.009014</td>\n",
              "      <td>0.007812</td>\n",
              "      <td>0.054688</td>\n",
              "      <td>0.046875</td>\n",
              "      <td>0.052632</td>\n",
              "      <td>male</td>\n",
              "    </tr>\n",
              "    <tr>\n",
              "      <th>2</th>\n",
              "      <td>0.077316</td>\n",
              "      <td>0.083829</td>\n",
              "      <td>0.036718</td>\n",
              "      <td>0.008701</td>\n",
              "      <td>0.131908</td>\n",
              "      <td>0.123207</td>\n",
              "      <td>30.757155</td>\n",
              "      <td>1024.927705</td>\n",
              "      <td>0.846389</td>\n",
              "      <td>0.478905</td>\n",
              "      <td>...</td>\n",
              "      <td>0.077316</td>\n",
              "      <td>0.098706</td>\n",
              "      <td>0.015656</td>\n",
              "      <td>0.271186</td>\n",
              "      <td>0.007990</td>\n",
              "      <td>0.007812</td>\n",
              "      <td>0.015625</td>\n",
              "      <td>0.007812</td>\n",
              "      <td>0.046512</td>\n",
              "      <td>male</td>\n",
              "    </tr>\n",
              "    <tr>\n",
              "      <th>3</th>\n",
              "      <td>0.151228</td>\n",
              "      <td>0.072111</td>\n",
              "      <td>0.158011</td>\n",
              "      <td>0.096582</td>\n",
              "      <td>0.207955</td>\n",
              "      <td>0.111374</td>\n",
              "      <td>1.232831</td>\n",
              "      <td>4.177296</td>\n",
              "      <td>0.963322</td>\n",
              "      <td>0.727232</td>\n",
              "      <td>...</td>\n",
              "      <td>0.151228</td>\n",
              "      <td>0.088965</td>\n",
              "      <td>0.017798</td>\n",
              "      <td>0.250000</td>\n",
              "      <td>0.201497</td>\n",
              "      <td>0.007812</td>\n",
              "      <td>0.562500</td>\n",
              "      <td>0.554688</td>\n",
              "      <td>0.247119</td>\n",
              "      <td>male</td>\n",
              "    </tr>\n",
              "    <tr>\n",
              "      <th>4</th>\n",
              "      <td>0.135120</td>\n",
              "      <td>0.079146</td>\n",
              "      <td>0.124656</td>\n",
              "      <td>0.078720</td>\n",
              "      <td>0.206045</td>\n",
              "      <td>0.127325</td>\n",
              "      <td>1.101174</td>\n",
              "      <td>4.333713</td>\n",
              "      <td>0.971955</td>\n",
              "      <td>0.783568</td>\n",
              "      <td>...</td>\n",
              "      <td>0.135120</td>\n",
              "      <td>0.106398</td>\n",
              "      <td>0.016931</td>\n",
              "      <td>0.266667</td>\n",
              "      <td>0.712812</td>\n",
              "      <td>0.007812</td>\n",
              "      <td>5.484375</td>\n",
              "      <td>5.476562</td>\n",
              "      <td>0.208274</td>\n",
              "      <td>male</td>\n",
              "    </tr>\n",
              "  </tbody>\n",
              "</table>\n",
              "<p>5 rows × 21 columns</p>\n",
              "</div>\n",
              "      <button class=\"colab-df-convert\" onclick=\"convertToInteractive('df-1e83154a-700e-44b6-97b0-62531c6c47e2')\"\n",
              "              title=\"Convert this dataframe to an interactive table.\"\n",
              "              style=\"display:none;\">\n",
              "        \n",
              "  <svg xmlns=\"http://www.w3.org/2000/svg\" height=\"24px\"viewBox=\"0 0 24 24\"\n",
              "       width=\"24px\">\n",
              "    <path d=\"M0 0h24v24H0V0z\" fill=\"none\"/>\n",
              "    <path d=\"M18.56 5.44l.94 2.06.94-2.06 2.06-.94-2.06-.94-.94-2.06-.94 2.06-2.06.94zm-11 1L8.5 8.5l.94-2.06 2.06-.94-2.06-.94L8.5 2.5l-.94 2.06-2.06.94zm10 10l.94 2.06.94-2.06 2.06-.94-2.06-.94-.94-2.06-.94 2.06-2.06.94z\"/><path d=\"M17.41 7.96l-1.37-1.37c-.4-.4-.92-.59-1.43-.59-.52 0-1.04.2-1.43.59L10.3 9.45l-7.72 7.72c-.78.78-.78 2.05 0 2.83L4 21.41c.39.39.9.59 1.41.59.51 0 1.02-.2 1.41-.59l7.78-7.78 2.81-2.81c.8-.78.8-2.07 0-2.86zM5.41 20L4 18.59l7.72-7.72 1.47 1.35L5.41 20z\"/>\n",
              "  </svg>\n",
              "      </button>\n",
              "      \n",
              "  <style>\n",
              "    .colab-df-container {\n",
              "      display:flex;\n",
              "      flex-wrap:wrap;\n",
              "      gap: 12px;\n",
              "    }\n",
              "\n",
              "    .colab-df-convert {\n",
              "      background-color: #E8F0FE;\n",
              "      border: none;\n",
              "      border-radius: 50%;\n",
              "      cursor: pointer;\n",
              "      display: none;\n",
              "      fill: #1967D2;\n",
              "      height: 32px;\n",
              "      padding: 0 0 0 0;\n",
              "      width: 32px;\n",
              "    }\n",
              "\n",
              "    .colab-df-convert:hover {\n",
              "      background-color: #E2EBFA;\n",
              "      box-shadow: 0px 1px 2px rgba(60, 64, 67, 0.3), 0px 1px 3px 1px rgba(60, 64, 67, 0.15);\n",
              "      fill: #174EA6;\n",
              "    }\n",
              "\n",
              "    [theme=dark] .colab-df-convert {\n",
              "      background-color: #3B4455;\n",
              "      fill: #D2E3FC;\n",
              "    }\n",
              "\n",
              "    [theme=dark] .colab-df-convert:hover {\n",
              "      background-color: #434B5C;\n",
              "      box-shadow: 0px 1px 3px 1px rgba(0, 0, 0, 0.15);\n",
              "      filter: drop-shadow(0px 1px 2px rgba(0, 0, 0, 0.3));\n",
              "      fill: #FFFFFF;\n",
              "    }\n",
              "  </style>\n",
              "\n",
              "      <script>\n",
              "        const buttonEl =\n",
              "          document.querySelector('#df-1e83154a-700e-44b6-97b0-62531c6c47e2 button.colab-df-convert');\n",
              "        buttonEl.style.display =\n",
              "          google.colab.kernel.accessAllowed ? 'block' : 'none';\n",
              "\n",
              "        async function convertToInteractive(key) {\n",
              "          const element = document.querySelector('#df-1e83154a-700e-44b6-97b0-62531c6c47e2');\n",
              "          const dataTable =\n",
              "            await google.colab.kernel.invokeFunction('convertToInteractive',\n",
              "                                                     [key], {});\n",
              "          if (!dataTable) return;\n",
              "\n",
              "          const docLinkHtml = 'Like what you see? Visit the ' +\n",
              "            '<a target=\"_blank\" href=https://colab.research.google.com/notebooks/data_table.ipynb>data table notebook</a>'\n",
              "            + ' to learn more about interactive tables.';\n",
              "          element.innerHTML = '';\n",
              "          dataTable['output_type'] = 'display_data';\n",
              "          await google.colab.output.renderOutput(dataTable, element);\n",
              "          const docLink = document.createElement('div');\n",
              "          docLink.innerHTML = docLinkHtml;\n",
              "          element.appendChild(docLink);\n",
              "        }\n",
              "      </script>\n",
              "    </div>\n",
              "  </div>\n",
              "  "
            ]
          },
          "metadata": {},
          "execution_count": 9
        }
      ]
    },
    {
      "cell_type": "code",
      "source": [
        "voice.info()"
      ],
      "metadata": {
        "_uuid": "65467942b1dcc24d03e0ab21e8d037735c9a504a",
        "trusted": true,
        "colab": {
          "base_uri": "https://localhost:8080/",
          "height": 0
        },
        "id": "V53qbJatYZ_v",
        "outputId": "2cf72a3a-c834-428f-8c21-cffcb4158521"
      },
      "execution_count": 10,
      "outputs": [
        {
          "output_type": "stream",
          "name": "stdout",
          "text": [
            "<class 'pandas.core.frame.DataFrame'>\n",
            "RangeIndex: 3168 entries, 0 to 3167\n",
            "Data columns (total 21 columns):\n",
            " #   Column    Non-Null Count  Dtype  \n",
            "---  ------    --------------  -----  \n",
            " 0   meanfreq  3168 non-null   float64\n",
            " 1   sd        3168 non-null   float64\n",
            " 2   median    3168 non-null   float64\n",
            " 3   Q25       3168 non-null   float64\n",
            " 4   Q75       3168 non-null   float64\n",
            " 5   IQR       3168 non-null   float64\n",
            " 6   skew      3168 non-null   float64\n",
            " 7   kurt      3168 non-null   float64\n",
            " 8   sp.ent    3168 non-null   float64\n",
            " 9   sfm       3168 non-null   float64\n",
            " 10  mode      3168 non-null   float64\n",
            " 11  centroid  3168 non-null   float64\n",
            " 12  meanfun   3168 non-null   float64\n",
            " 13  minfun    3168 non-null   float64\n",
            " 14  maxfun    3168 non-null   float64\n",
            " 15  meandom   3168 non-null   float64\n",
            " 16  mindom    3168 non-null   float64\n",
            " 17  maxdom    3168 non-null   float64\n",
            " 18  dfrange   3168 non-null   float64\n",
            " 19  modindx   3168 non-null   float64\n",
            " 20  label     3168 non-null   object \n",
            "dtypes: float64(20), object(1)\n",
            "memory usage: 519.9+ KB\n"
          ]
        }
      ]
    },
    {
      "cell_type": "code",
      "source": [
        "from google.colab import drive\n",
        "drive.mount('/content/drive')"
      ],
      "metadata": {
        "colab": {
          "base_uri": "https://localhost:8080/",
          "height": 0
        },
        "id": "AJkqrSvmY7oU",
        "outputId": "334b7c57-6e09-4419-a6de-d7a40cd6471e"
      },
      "execution_count": 11,
      "outputs": [
        {
          "output_type": "stream",
          "name": "stdout",
          "text": [
            "Drive already mounted at /content/drive; to attempt to forcibly remount, call drive.mount(\"/content/drive\", force_remount=True).\n"
          ]
        }
      ]
    },
    {
      "cell_type": "code",
      "source": [
        "voice.describe()"
      ],
      "metadata": {
        "_uuid": "39e154cb54356acfac8c2edd1e565b42edf0b502",
        "trusted": true,
        "colab": {
          "base_uri": "https://localhost:8080/",
          "height": 364
        },
        "id": "RIN6sEYwYZ_w",
        "outputId": "f6af036c-b8f9-40de-fa3d-3878f3dca37c"
      },
      "execution_count": 12,
      "outputs": [
        {
          "output_type": "execute_result",
          "data": {
            "text/plain": [
              "          meanfreq           sd       median          Q25          Q75  \\\n",
              "count  3168.000000  3168.000000  3168.000000  3168.000000  3168.000000   \n",
              "mean      0.180907     0.057126     0.185621     0.140456     0.224765   \n",
              "std       0.029918     0.016652     0.036360     0.048680     0.023639   \n",
              "min       0.039363     0.018363     0.010975     0.000229     0.042946   \n",
              "25%       0.163662     0.041954     0.169593     0.111087     0.208747   \n",
              "50%       0.184838     0.059155     0.190032     0.140286     0.225684   \n",
              "75%       0.199146     0.067020     0.210618     0.175939     0.243660   \n",
              "max       0.251124     0.115273     0.261224     0.247347     0.273469   \n",
              "\n",
              "               IQR         skew         kurt       sp.ent          sfm  \\\n",
              "count  3168.000000  3168.000000  3168.000000  3168.000000  3168.000000   \n",
              "mean      0.084309     3.140168    36.568461     0.895127     0.408216   \n",
              "std       0.042783     4.240529   134.928661     0.044980     0.177521   \n",
              "min       0.014558     0.141735     2.068455     0.738651     0.036876   \n",
              "25%       0.042560     1.649569     5.669547     0.861811     0.258041   \n",
              "50%       0.094280     2.197101     8.318463     0.901767     0.396335   \n",
              "75%       0.114175     2.931694    13.648905     0.928713     0.533676   \n",
              "max       0.252225    34.725453  1309.612887     0.981997     0.842936   \n",
              "\n",
              "              mode     centroid      meanfun       minfun       maxfun  \\\n",
              "count  3168.000000  3168.000000  3168.000000  3168.000000  3168.000000   \n",
              "mean      0.165282     0.180907     0.142807     0.036802     0.258842   \n",
              "std       0.077203     0.029918     0.032304     0.019220     0.030077   \n",
              "min       0.000000     0.039363     0.055565     0.009775     0.103093   \n",
              "25%       0.118016     0.163662     0.116998     0.018223     0.253968   \n",
              "50%       0.186599     0.184838     0.140519     0.046110     0.271186   \n",
              "75%       0.221104     0.199146     0.169581     0.047904     0.277457   \n",
              "max       0.280000     0.251124     0.237636     0.204082     0.279114   \n",
              "\n",
              "           meandom       mindom       maxdom      dfrange      modindx  \n",
              "count  3168.000000  3168.000000  3168.000000  3168.000000  3168.000000  \n",
              "mean      0.829211     0.052647     5.047277     4.994630     0.173752  \n",
              "std       0.525205     0.063299     3.521157     3.520039     0.119454  \n",
              "min       0.007812     0.004883     0.007812     0.000000     0.000000  \n",
              "25%       0.419828     0.007812     2.070312     2.044922     0.099766  \n",
              "50%       0.765795     0.023438     4.992188     4.945312     0.139357  \n",
              "75%       1.177166     0.070312     7.007812     6.992188     0.209183  \n",
              "max       2.957682     0.458984    21.867188    21.843750     0.932374  "
            ],
            "text/html": [
              "\n",
              "  <div id=\"df-163b9a48-af51-4c9d-ad2f-d00a6cd0f9b6\">\n",
              "    <div class=\"colab-df-container\">\n",
              "      <div>\n",
              "<style scoped>\n",
              "    .dataframe tbody tr th:only-of-type {\n",
              "        vertical-align: middle;\n",
              "    }\n",
              "\n",
              "    .dataframe tbody tr th {\n",
              "        vertical-align: top;\n",
              "    }\n",
              "\n",
              "    .dataframe thead th {\n",
              "        text-align: right;\n",
              "    }\n",
              "</style>\n",
              "<table border=\"1\" class=\"dataframe\">\n",
              "  <thead>\n",
              "    <tr style=\"text-align: right;\">\n",
              "      <th></th>\n",
              "      <th>meanfreq</th>\n",
              "      <th>sd</th>\n",
              "      <th>median</th>\n",
              "      <th>Q25</th>\n",
              "      <th>Q75</th>\n",
              "      <th>IQR</th>\n",
              "      <th>skew</th>\n",
              "      <th>kurt</th>\n",
              "      <th>sp.ent</th>\n",
              "      <th>sfm</th>\n",
              "      <th>mode</th>\n",
              "      <th>centroid</th>\n",
              "      <th>meanfun</th>\n",
              "      <th>minfun</th>\n",
              "      <th>maxfun</th>\n",
              "      <th>meandom</th>\n",
              "      <th>mindom</th>\n",
              "      <th>maxdom</th>\n",
              "      <th>dfrange</th>\n",
              "      <th>modindx</th>\n",
              "    </tr>\n",
              "  </thead>\n",
              "  <tbody>\n",
              "    <tr>\n",
              "      <th>count</th>\n",
              "      <td>3168.000000</td>\n",
              "      <td>3168.000000</td>\n",
              "      <td>3168.000000</td>\n",
              "      <td>3168.000000</td>\n",
              "      <td>3168.000000</td>\n",
              "      <td>3168.000000</td>\n",
              "      <td>3168.000000</td>\n",
              "      <td>3168.000000</td>\n",
              "      <td>3168.000000</td>\n",
              "      <td>3168.000000</td>\n",
              "      <td>3168.000000</td>\n",
              "      <td>3168.000000</td>\n",
              "      <td>3168.000000</td>\n",
              "      <td>3168.000000</td>\n",
              "      <td>3168.000000</td>\n",
              "      <td>3168.000000</td>\n",
              "      <td>3168.000000</td>\n",
              "      <td>3168.000000</td>\n",
              "      <td>3168.000000</td>\n",
              "      <td>3168.000000</td>\n",
              "    </tr>\n",
              "    <tr>\n",
              "      <th>mean</th>\n",
              "      <td>0.180907</td>\n",
              "      <td>0.057126</td>\n",
              "      <td>0.185621</td>\n",
              "      <td>0.140456</td>\n",
              "      <td>0.224765</td>\n",
              "      <td>0.084309</td>\n",
              "      <td>3.140168</td>\n",
              "      <td>36.568461</td>\n",
              "      <td>0.895127</td>\n",
              "      <td>0.408216</td>\n",
              "      <td>0.165282</td>\n",
              "      <td>0.180907</td>\n",
              "      <td>0.142807</td>\n",
              "      <td>0.036802</td>\n",
              "      <td>0.258842</td>\n",
              "      <td>0.829211</td>\n",
              "      <td>0.052647</td>\n",
              "      <td>5.047277</td>\n",
              "      <td>4.994630</td>\n",
              "      <td>0.173752</td>\n",
              "    </tr>\n",
              "    <tr>\n",
              "      <th>std</th>\n",
              "      <td>0.029918</td>\n",
              "      <td>0.016652</td>\n",
              "      <td>0.036360</td>\n",
              "      <td>0.048680</td>\n",
              "      <td>0.023639</td>\n",
              "      <td>0.042783</td>\n",
              "      <td>4.240529</td>\n",
              "      <td>134.928661</td>\n",
              "      <td>0.044980</td>\n",
              "      <td>0.177521</td>\n",
              "      <td>0.077203</td>\n",
              "      <td>0.029918</td>\n",
              "      <td>0.032304</td>\n",
              "      <td>0.019220</td>\n",
              "      <td>0.030077</td>\n",
              "      <td>0.525205</td>\n",
              "      <td>0.063299</td>\n",
              "      <td>3.521157</td>\n",
              "      <td>3.520039</td>\n",
              "      <td>0.119454</td>\n",
              "    </tr>\n",
              "    <tr>\n",
              "      <th>min</th>\n",
              "      <td>0.039363</td>\n",
              "      <td>0.018363</td>\n",
              "      <td>0.010975</td>\n",
              "      <td>0.000229</td>\n",
              "      <td>0.042946</td>\n",
              "      <td>0.014558</td>\n",
              "      <td>0.141735</td>\n",
              "      <td>2.068455</td>\n",
              "      <td>0.738651</td>\n",
              "      <td>0.036876</td>\n",
              "      <td>0.000000</td>\n",
              "      <td>0.039363</td>\n",
              "      <td>0.055565</td>\n",
              "      <td>0.009775</td>\n",
              "      <td>0.103093</td>\n",
              "      <td>0.007812</td>\n",
              "      <td>0.004883</td>\n",
              "      <td>0.007812</td>\n",
              "      <td>0.000000</td>\n",
              "      <td>0.000000</td>\n",
              "    </tr>\n",
              "    <tr>\n",
              "      <th>25%</th>\n",
              "      <td>0.163662</td>\n",
              "      <td>0.041954</td>\n",
              "      <td>0.169593</td>\n",
              "      <td>0.111087</td>\n",
              "      <td>0.208747</td>\n",
              "      <td>0.042560</td>\n",
              "      <td>1.649569</td>\n",
              "      <td>5.669547</td>\n",
              "      <td>0.861811</td>\n",
              "      <td>0.258041</td>\n",
              "      <td>0.118016</td>\n",
              "      <td>0.163662</td>\n",
              "      <td>0.116998</td>\n",
              "      <td>0.018223</td>\n",
              "      <td>0.253968</td>\n",
              "      <td>0.419828</td>\n",
              "      <td>0.007812</td>\n",
              "      <td>2.070312</td>\n",
              "      <td>2.044922</td>\n",
              "      <td>0.099766</td>\n",
              "    </tr>\n",
              "    <tr>\n",
              "      <th>50%</th>\n",
              "      <td>0.184838</td>\n",
              "      <td>0.059155</td>\n",
              "      <td>0.190032</td>\n",
              "      <td>0.140286</td>\n",
              "      <td>0.225684</td>\n",
              "      <td>0.094280</td>\n",
              "      <td>2.197101</td>\n",
              "      <td>8.318463</td>\n",
              "      <td>0.901767</td>\n",
              "      <td>0.396335</td>\n",
              "      <td>0.186599</td>\n",
              "      <td>0.184838</td>\n",
              "      <td>0.140519</td>\n",
              "      <td>0.046110</td>\n",
              "      <td>0.271186</td>\n",
              "      <td>0.765795</td>\n",
              "      <td>0.023438</td>\n",
              "      <td>4.992188</td>\n",
              "      <td>4.945312</td>\n",
              "      <td>0.139357</td>\n",
              "    </tr>\n",
              "    <tr>\n",
              "      <th>75%</th>\n",
              "      <td>0.199146</td>\n",
              "      <td>0.067020</td>\n",
              "      <td>0.210618</td>\n",
              "      <td>0.175939</td>\n",
              "      <td>0.243660</td>\n",
              "      <td>0.114175</td>\n",
              "      <td>2.931694</td>\n",
              "      <td>13.648905</td>\n",
              "      <td>0.928713</td>\n",
              "      <td>0.533676</td>\n",
              "      <td>0.221104</td>\n",
              "      <td>0.199146</td>\n",
              "      <td>0.169581</td>\n",
              "      <td>0.047904</td>\n",
              "      <td>0.277457</td>\n",
              "      <td>1.177166</td>\n",
              "      <td>0.070312</td>\n",
              "      <td>7.007812</td>\n",
              "      <td>6.992188</td>\n",
              "      <td>0.209183</td>\n",
              "    </tr>\n",
              "    <tr>\n",
              "      <th>max</th>\n",
              "      <td>0.251124</td>\n",
              "      <td>0.115273</td>\n",
              "      <td>0.261224</td>\n",
              "      <td>0.247347</td>\n",
              "      <td>0.273469</td>\n",
              "      <td>0.252225</td>\n",
              "      <td>34.725453</td>\n",
              "      <td>1309.612887</td>\n",
              "      <td>0.981997</td>\n",
              "      <td>0.842936</td>\n",
              "      <td>0.280000</td>\n",
              "      <td>0.251124</td>\n",
              "      <td>0.237636</td>\n",
              "      <td>0.204082</td>\n",
              "      <td>0.279114</td>\n",
              "      <td>2.957682</td>\n",
              "      <td>0.458984</td>\n",
              "      <td>21.867188</td>\n",
              "      <td>21.843750</td>\n",
              "      <td>0.932374</td>\n",
              "    </tr>\n",
              "  </tbody>\n",
              "</table>\n",
              "</div>\n",
              "      <button class=\"colab-df-convert\" onclick=\"convertToInteractive('df-163b9a48-af51-4c9d-ad2f-d00a6cd0f9b6')\"\n",
              "              title=\"Convert this dataframe to an interactive table.\"\n",
              "              style=\"display:none;\">\n",
              "        \n",
              "  <svg xmlns=\"http://www.w3.org/2000/svg\" height=\"24px\"viewBox=\"0 0 24 24\"\n",
              "       width=\"24px\">\n",
              "    <path d=\"M0 0h24v24H0V0z\" fill=\"none\"/>\n",
              "    <path d=\"M18.56 5.44l.94 2.06.94-2.06 2.06-.94-2.06-.94-.94-2.06-.94 2.06-2.06.94zm-11 1L8.5 8.5l.94-2.06 2.06-.94-2.06-.94L8.5 2.5l-.94 2.06-2.06.94zm10 10l.94 2.06.94-2.06 2.06-.94-2.06-.94-.94-2.06-.94 2.06-2.06.94z\"/><path d=\"M17.41 7.96l-1.37-1.37c-.4-.4-.92-.59-1.43-.59-.52 0-1.04.2-1.43.59L10.3 9.45l-7.72 7.72c-.78.78-.78 2.05 0 2.83L4 21.41c.39.39.9.59 1.41.59.51 0 1.02-.2 1.41-.59l7.78-7.78 2.81-2.81c.8-.78.8-2.07 0-2.86zM5.41 20L4 18.59l7.72-7.72 1.47 1.35L5.41 20z\"/>\n",
              "  </svg>\n",
              "      </button>\n",
              "      \n",
              "  <style>\n",
              "    .colab-df-container {\n",
              "      display:flex;\n",
              "      flex-wrap:wrap;\n",
              "      gap: 12px;\n",
              "    }\n",
              "\n",
              "    .colab-df-convert {\n",
              "      background-color: #E8F0FE;\n",
              "      border: none;\n",
              "      border-radius: 50%;\n",
              "      cursor: pointer;\n",
              "      display: none;\n",
              "      fill: #1967D2;\n",
              "      height: 32px;\n",
              "      padding: 0 0 0 0;\n",
              "      width: 32px;\n",
              "    }\n",
              "\n",
              "    .colab-df-convert:hover {\n",
              "      background-color: #E2EBFA;\n",
              "      box-shadow: 0px 1px 2px rgba(60, 64, 67, 0.3), 0px 1px 3px 1px rgba(60, 64, 67, 0.15);\n",
              "      fill: #174EA6;\n",
              "    }\n",
              "\n",
              "    [theme=dark] .colab-df-convert {\n",
              "      background-color: #3B4455;\n",
              "      fill: #D2E3FC;\n",
              "    }\n",
              "\n",
              "    [theme=dark] .colab-df-convert:hover {\n",
              "      background-color: #434B5C;\n",
              "      box-shadow: 0px 1px 3px 1px rgba(0, 0, 0, 0.15);\n",
              "      filter: drop-shadow(0px 1px 2px rgba(0, 0, 0, 0.3));\n",
              "      fill: #FFFFFF;\n",
              "    }\n",
              "  </style>\n",
              "\n",
              "      <script>\n",
              "        const buttonEl =\n",
              "          document.querySelector('#df-163b9a48-af51-4c9d-ad2f-d00a6cd0f9b6 button.colab-df-convert');\n",
              "        buttonEl.style.display =\n",
              "          google.colab.kernel.accessAllowed ? 'block' : 'none';\n",
              "\n",
              "        async function convertToInteractive(key) {\n",
              "          const element = document.querySelector('#df-163b9a48-af51-4c9d-ad2f-d00a6cd0f9b6');\n",
              "          const dataTable =\n",
              "            await google.colab.kernel.invokeFunction('convertToInteractive',\n",
              "                                                     [key], {});\n",
              "          if (!dataTable) return;\n",
              "\n",
              "          const docLinkHtml = 'Like what you see? Visit the ' +\n",
              "            '<a target=\"_blank\" href=https://colab.research.google.com/notebooks/data_table.ipynb>data table notebook</a>'\n",
              "            + ' to learn more about interactive tables.';\n",
              "          element.innerHTML = '';\n",
              "          dataTable['output_type'] = 'display_data';\n",
              "          await google.colab.output.renderOutput(dataTable, element);\n",
              "          const docLink = document.createElement('div');\n",
              "          docLink.innerHTML = docLinkHtml;\n",
              "          element.appendChild(docLink);\n",
              "        }\n",
              "      </script>\n",
              "    </div>\n",
              "  </div>\n",
              "  "
            ]
          },
          "metadata": {},
          "execution_count": 12
        }
      ]
    },
    {
      "cell_type": "markdown",
      "source": [
        "Preprocessing: label encoder and normalization"
      ],
      "metadata": {
        "_uuid": "5966f35aea13387065d525aabdcceaa809e08eeb",
        "id": "lTh1HZQ6YZ_x"
      }
    },
    {
      "cell_type": "code",
      "source": [
        "from sklearn import preprocessing\n",
        "le = preprocessing.LabelEncoder()\n",
        "voice[\"label\"] = le.fit_transform(voice[\"label\"])\n",
        "le.classes_"
      ],
      "metadata": {
        "_uuid": "523e9d19559457ef6269c8ff9f68a1fd15a6a3fe",
        "trusted": true,
        "colab": {
          "base_uri": "https://localhost:8080/",
          "height": 0
        },
        "id": "YoAvBXpqYZ_x",
        "outputId": "d1970bd8-9c24-4995-acfc-14686c80025d"
      },
      "execution_count": 13,
      "outputs": [
        {
          "output_type": "execute_result",
          "data": {
            "text/plain": [
              "array(['female', 'male'], dtype=object)"
            ]
          },
          "metadata": {},
          "execution_count": 13
        }
      ]
    },
    {
      "cell_type": "code",
      "source": [
        "voice[:]=preprocessing.MinMaxScaler().fit_transform(voice)\n",
        "voice.head()"
      ],
      "metadata": {
        "_uuid": "dacdfb24e542b09bfacbf9dd9dfe497b630c02d1",
        "trusted": true,
        "colab": {
          "base_uri": "https://localhost:8080/",
          "height": 299
        },
        "id": "05jtwvfVYZ_y",
        "outputId": "8737a9b9-3002-452b-e71e-3ec661ad350f"
      },
      "execution_count": 14,
      "outputs": [
        {
          "output_type": "execute_result",
          "data": {
            "text/plain": [
              "   meanfreq        sd    median       Q25       Q75       IQR      skew  \\\n",
              "0  0.096419  0.473409  0.084125  0.060063  0.204956  0.254828  0.367853   \n",
              "1  0.125828  0.505075  0.116900  0.077635  0.215683  0.246961  0.644279   \n",
              "2  0.179222  0.675536  0.102873  0.034284  0.385912  0.457148  0.885255   \n",
              "3  0.528261  0.554611  0.587559  0.389906  0.715802  0.407358  0.031549   \n",
              "4  0.452195  0.627209  0.454272  0.317627  0.707515  0.474474  0.027742   \n",
              "\n",
              "       kurt    sp.ent       sfm  ...  centroid   meanfun    minfun    maxfun  \\\n",
              "0  0.208279  0.635798  0.564526  ...  0.096419  0.157706  0.030501  0.981526   \n",
              "1  0.483766  0.630964  0.591578  ...  0.125828  0.287642  0.031140  0.834600   \n",
              "2  0.782275  0.442738  0.548382  ...  0.179222  0.236945  0.030264  0.954963   \n",
              "3  0.001613  0.923261  0.856457  ...  0.528261  0.183442  0.041287  0.834600   \n",
              "4  0.001732  0.958736  0.926348  ...  0.452195  0.279190  0.036829  0.929285   \n",
              "\n",
              "    meandom    mindom    maxdom   dfrange   modindx  label  \n",
              "0  0.000000  0.006452  0.000000  0.000000  0.000000    1.0  \n",
              "1  0.000407  0.006452  0.002144  0.002146  0.056449    1.0  \n",
              "2  0.000060  0.006452  0.000357  0.000358  0.049885    1.0  \n",
              "3  0.065659  0.006452  0.025375  0.025393  0.265043    1.0  \n",
              "4  0.238994  0.006452  0.250536  0.250715  0.223380    1.0  \n",
              "\n",
              "[5 rows x 21 columns]"
            ],
            "text/html": [
              "\n",
              "  <div id=\"df-ad9fc383-bfbc-443e-96ab-b63124c343d9\">\n",
              "    <div class=\"colab-df-container\">\n",
              "      <div>\n",
              "<style scoped>\n",
              "    .dataframe tbody tr th:only-of-type {\n",
              "        vertical-align: middle;\n",
              "    }\n",
              "\n",
              "    .dataframe tbody tr th {\n",
              "        vertical-align: top;\n",
              "    }\n",
              "\n",
              "    .dataframe thead th {\n",
              "        text-align: right;\n",
              "    }\n",
              "</style>\n",
              "<table border=\"1\" class=\"dataframe\">\n",
              "  <thead>\n",
              "    <tr style=\"text-align: right;\">\n",
              "      <th></th>\n",
              "      <th>meanfreq</th>\n",
              "      <th>sd</th>\n",
              "      <th>median</th>\n",
              "      <th>Q25</th>\n",
              "      <th>Q75</th>\n",
              "      <th>IQR</th>\n",
              "      <th>skew</th>\n",
              "      <th>kurt</th>\n",
              "      <th>sp.ent</th>\n",
              "      <th>sfm</th>\n",
              "      <th>...</th>\n",
              "      <th>centroid</th>\n",
              "      <th>meanfun</th>\n",
              "      <th>minfun</th>\n",
              "      <th>maxfun</th>\n",
              "      <th>meandom</th>\n",
              "      <th>mindom</th>\n",
              "      <th>maxdom</th>\n",
              "      <th>dfrange</th>\n",
              "      <th>modindx</th>\n",
              "      <th>label</th>\n",
              "    </tr>\n",
              "  </thead>\n",
              "  <tbody>\n",
              "    <tr>\n",
              "      <th>0</th>\n",
              "      <td>0.096419</td>\n",
              "      <td>0.473409</td>\n",
              "      <td>0.084125</td>\n",
              "      <td>0.060063</td>\n",
              "      <td>0.204956</td>\n",
              "      <td>0.254828</td>\n",
              "      <td>0.367853</td>\n",
              "      <td>0.208279</td>\n",
              "      <td>0.635798</td>\n",
              "      <td>0.564526</td>\n",
              "      <td>...</td>\n",
              "      <td>0.096419</td>\n",
              "      <td>0.157706</td>\n",
              "      <td>0.030501</td>\n",
              "      <td>0.981526</td>\n",
              "      <td>0.000000</td>\n",
              "      <td>0.006452</td>\n",
              "      <td>0.000000</td>\n",
              "      <td>0.000000</td>\n",
              "      <td>0.000000</td>\n",
              "      <td>1.0</td>\n",
              "    </tr>\n",
              "    <tr>\n",
              "      <th>1</th>\n",
              "      <td>0.125828</td>\n",
              "      <td>0.505075</td>\n",
              "      <td>0.116900</td>\n",
              "      <td>0.077635</td>\n",
              "      <td>0.215683</td>\n",
              "      <td>0.246961</td>\n",
              "      <td>0.644279</td>\n",
              "      <td>0.483766</td>\n",
              "      <td>0.630964</td>\n",
              "      <td>0.591578</td>\n",
              "      <td>...</td>\n",
              "      <td>0.125828</td>\n",
              "      <td>0.287642</td>\n",
              "      <td>0.031140</td>\n",
              "      <td>0.834600</td>\n",
              "      <td>0.000407</td>\n",
              "      <td>0.006452</td>\n",
              "      <td>0.002144</td>\n",
              "      <td>0.002146</td>\n",
              "      <td>0.056449</td>\n",
              "      <td>1.0</td>\n",
              "    </tr>\n",
              "    <tr>\n",
              "      <th>2</th>\n",
              "      <td>0.179222</td>\n",
              "      <td>0.675536</td>\n",
              "      <td>0.102873</td>\n",
              "      <td>0.034284</td>\n",
              "      <td>0.385912</td>\n",
              "      <td>0.457148</td>\n",
              "      <td>0.885255</td>\n",
              "      <td>0.782275</td>\n",
              "      <td>0.442738</td>\n",
              "      <td>0.548382</td>\n",
              "      <td>...</td>\n",
              "      <td>0.179222</td>\n",
              "      <td>0.236945</td>\n",
              "      <td>0.030264</td>\n",
              "      <td>0.954963</td>\n",
              "      <td>0.000060</td>\n",
              "      <td>0.006452</td>\n",
              "      <td>0.000357</td>\n",
              "      <td>0.000358</td>\n",
              "      <td>0.049885</td>\n",
              "      <td>1.0</td>\n",
              "    </tr>\n",
              "    <tr>\n",
              "      <th>3</th>\n",
              "      <td>0.528261</td>\n",
              "      <td>0.554611</td>\n",
              "      <td>0.587559</td>\n",
              "      <td>0.389906</td>\n",
              "      <td>0.715802</td>\n",
              "      <td>0.407358</td>\n",
              "      <td>0.031549</td>\n",
              "      <td>0.001613</td>\n",
              "      <td>0.923261</td>\n",
              "      <td>0.856457</td>\n",
              "      <td>...</td>\n",
              "      <td>0.528261</td>\n",
              "      <td>0.183442</td>\n",
              "      <td>0.041287</td>\n",
              "      <td>0.834600</td>\n",
              "      <td>0.065659</td>\n",
              "      <td>0.006452</td>\n",
              "      <td>0.025375</td>\n",
              "      <td>0.025393</td>\n",
              "      <td>0.265043</td>\n",
              "      <td>1.0</td>\n",
              "    </tr>\n",
              "    <tr>\n",
              "      <th>4</th>\n",
              "      <td>0.452195</td>\n",
              "      <td>0.627209</td>\n",
              "      <td>0.454272</td>\n",
              "      <td>0.317627</td>\n",
              "      <td>0.707515</td>\n",
              "      <td>0.474474</td>\n",
              "      <td>0.027742</td>\n",
              "      <td>0.001732</td>\n",
              "      <td>0.958736</td>\n",
              "      <td>0.926348</td>\n",
              "      <td>...</td>\n",
              "      <td>0.452195</td>\n",
              "      <td>0.279190</td>\n",
              "      <td>0.036829</td>\n",
              "      <td>0.929285</td>\n",
              "      <td>0.238994</td>\n",
              "      <td>0.006452</td>\n",
              "      <td>0.250536</td>\n",
              "      <td>0.250715</td>\n",
              "      <td>0.223380</td>\n",
              "      <td>1.0</td>\n",
              "    </tr>\n",
              "  </tbody>\n",
              "</table>\n",
              "<p>5 rows × 21 columns</p>\n",
              "</div>\n",
              "      <button class=\"colab-df-convert\" onclick=\"convertToInteractive('df-ad9fc383-bfbc-443e-96ab-b63124c343d9')\"\n",
              "              title=\"Convert this dataframe to an interactive table.\"\n",
              "              style=\"display:none;\">\n",
              "        \n",
              "  <svg xmlns=\"http://www.w3.org/2000/svg\" height=\"24px\"viewBox=\"0 0 24 24\"\n",
              "       width=\"24px\">\n",
              "    <path d=\"M0 0h24v24H0V0z\" fill=\"none\"/>\n",
              "    <path d=\"M18.56 5.44l.94 2.06.94-2.06 2.06-.94-2.06-.94-.94-2.06-.94 2.06-2.06.94zm-11 1L8.5 8.5l.94-2.06 2.06-.94-2.06-.94L8.5 2.5l-.94 2.06-2.06.94zm10 10l.94 2.06.94-2.06 2.06-.94-2.06-.94-.94-2.06-.94 2.06-2.06.94z\"/><path d=\"M17.41 7.96l-1.37-1.37c-.4-.4-.92-.59-1.43-.59-.52 0-1.04.2-1.43.59L10.3 9.45l-7.72 7.72c-.78.78-.78 2.05 0 2.83L4 21.41c.39.39.9.59 1.41.59.51 0 1.02-.2 1.41-.59l7.78-7.78 2.81-2.81c.8-.78.8-2.07 0-2.86zM5.41 20L4 18.59l7.72-7.72 1.47 1.35L5.41 20z\"/>\n",
              "  </svg>\n",
              "      </button>\n",
              "      \n",
              "  <style>\n",
              "    .colab-df-container {\n",
              "      display:flex;\n",
              "      flex-wrap:wrap;\n",
              "      gap: 12px;\n",
              "    }\n",
              "\n",
              "    .colab-df-convert {\n",
              "      background-color: #E8F0FE;\n",
              "      border: none;\n",
              "      border-radius: 50%;\n",
              "      cursor: pointer;\n",
              "      display: none;\n",
              "      fill: #1967D2;\n",
              "      height: 32px;\n",
              "      padding: 0 0 0 0;\n",
              "      width: 32px;\n",
              "    }\n",
              "\n",
              "    .colab-df-convert:hover {\n",
              "      background-color: #E2EBFA;\n",
              "      box-shadow: 0px 1px 2px rgba(60, 64, 67, 0.3), 0px 1px 3px 1px rgba(60, 64, 67, 0.15);\n",
              "      fill: #174EA6;\n",
              "    }\n",
              "\n",
              "    [theme=dark] .colab-df-convert {\n",
              "      background-color: #3B4455;\n",
              "      fill: #D2E3FC;\n",
              "    }\n",
              "\n",
              "    [theme=dark] .colab-df-convert:hover {\n",
              "      background-color: #434B5C;\n",
              "      box-shadow: 0px 1px 3px 1px rgba(0, 0, 0, 0.15);\n",
              "      filter: drop-shadow(0px 1px 2px rgba(0, 0, 0, 0.3));\n",
              "      fill: #FFFFFF;\n",
              "    }\n",
              "  </style>\n",
              "\n",
              "      <script>\n",
              "        const buttonEl =\n",
              "          document.querySelector('#df-ad9fc383-bfbc-443e-96ab-b63124c343d9 button.colab-df-convert');\n",
              "        buttonEl.style.display =\n",
              "          google.colab.kernel.accessAllowed ? 'block' : 'none';\n",
              "\n",
              "        async function convertToInteractive(key) {\n",
              "          const element = document.querySelector('#df-ad9fc383-bfbc-443e-96ab-b63124c343d9');\n",
              "          const dataTable =\n",
              "            await google.colab.kernel.invokeFunction('convertToInteractive',\n",
              "                                                     [key], {});\n",
              "          if (!dataTable) return;\n",
              "\n",
              "          const docLinkHtml = 'Like what you see? Visit the ' +\n",
              "            '<a target=\"_blank\" href=https://colab.research.google.com/notebooks/data_table.ipynb>data table notebook</a>'\n",
              "            + ' to learn more about interactive tables.';\n",
              "          element.innerHTML = '';\n",
              "          dataTable['output_type'] = 'display_data';\n",
              "          await google.colab.output.renderOutput(dataTable, element);\n",
              "          const docLink = document.createElement('div');\n",
              "          docLink.innerHTML = docLinkHtml;\n",
              "          element.appendChild(docLink);\n",
              "        }\n",
              "      </script>\n",
              "    </div>\n",
              "  </div>\n",
              "  "
            ]
          },
          "metadata": {},
          "execution_count": 14
        }
      ]
    },
    {
      "cell_type": "markdown",
      "source": [
        "Visualization"
      ],
      "metadata": {
        "_uuid": "588a134786db193657fb77b66b1db729b6918dc5",
        "id": "2n925CwoYZ_z"
      }
    },
    {
      "cell_type": "code",
      "source": [
        "import seaborn as sns\n",
        "import matplotlib.pyplot as plt\n",
        "plt.subplots(4,5,figsize=(15,15))\n",
        "for i in range(1,21):\n",
        "    plt.subplot(4,5,i)\n",
        "    plt.title(voice.columns[i-1])\n",
        "    sns.kdeplot(voice.loc[voice['label'] == 0, voice.columns[i-1]], color= 'green', label='F')\n",
        "    sns.kdeplot(voice.loc[voice['label'] == 1, voice.columns[i-1]], color= 'blue', label='M')"
      ],
      "metadata": {
        "_uuid": "1a6980e4e7cff1cf41c91df28d0163d30eaaf92a",
        "trusted": true,
        "colab": {
          "base_uri": "https://localhost:8080/",
          "height": 823
        },
        "id": "FzUW-1YsYZ_0",
        "outputId": "066d72de-ea17-475e-9e22-ed146c95fb4c"
      },
      "execution_count": 15,
      "outputs": [
        {
          "output_type": "display_data",
          "data": {
            "text/plain": [
              "<Figure size 1080x1080 with 20 Axes>"
            ],
            "image/png": "[encoded data removed]"
          },
          "metadata": {
            "needs_background": "light"
          }
        }
      ]
    },
    {
      "cell_type": "markdown",
      "source": [
        "At first glance, most significant features are Q25, IQR and meanfun. We will build models by using the 20 features and the 3 distinct features."
      ],
      "metadata": {
        "_uuid": "21e6bee7bf4c73e4ded96b083658597cecd5490c",
        "trusted": true,
        "id": "aDFyO-_CYZ_1"
      }
    },
    {
      "cell_type": "markdown",
      "source": [
        "Using K-Nearest Neighbors, Naive Bayes, Decision Tree, Random Forest, XgBoost, Support Vector Machine, Neural Network to build models"
      ],
      "metadata": {
        "_uuid": "103c4db3fb2021b7883f65e9a97499a31c92b754",
        "trusted": true,
        "id": "Misc5oxbYZ_2"
      }
    },
    {
      "cell_type": "code",
      "source": [
        "from sklearn import preprocessing\n",
        "from sklearn.model_selection import train_test_split\n",
        "from sklearn.metrics import accuracy_score\n",
        "\n",
        "from sklearn import neighbors\n",
        "from sklearn import naive_bayes\n",
        "from sklearn import tree\n",
        "from sklearn import ensemble\n",
        "from sklearn import svm\n",
        "from sklearn import neural_network\n",
        "import xgboost"
      ],
      "metadata": {
        "_uuid": "62857eccdc345f3621d97ec92f97887ee07a3fdb",
        "trusted": true,
        "id": "Y4-L5JGZYZ_2"
      },
      "execution_count": 16,
      "outputs": []
    },
    {
      "cell_type": "code",
      "source": [
        "# Split the data\n",
        "train, test = train_test_split(voice, test_size=0.3)"
      ],
      "metadata": {
        "_uuid": "51f326d159e40eac6101da061535b117850a4db4",
        "trusted": true,
        "id": "8_eOXdIRYZ_3"
      },
      "execution_count": 17,
      "outputs": []
    },
    {
      "cell_type": "code",
      "source": [
        "train.head()"
      ],
      "metadata": {
        "_uuid": "42dd77bdc5316b9c9c119ed1819081987c92160c",
        "trusted": true,
        "colab": {
          "base_uri": "https://localhost:8080/",
          "height": 299
        },
        "id": "mr1BW9AYYZ_4",
        "outputId": "fc6b57b7-09fa-40d7-fa62-8e618ac5af5f"
      },
      "execution_count": 18,
      "outputs": [
        {
          "output_type": "execute_result",
          "data": {
            "text/plain": [
              "      meanfreq        sd    median       Q25       Q75       IQR      skew  \\\n",
              "553   0.632757  0.524496  0.653215  0.442806  0.870848  0.502739  0.061808   \n",
              "216   0.652996  0.425988  0.654083  0.504866  0.803398  0.372790  0.030166   \n",
              "2373  0.945598  0.139861  0.936918  0.933495  0.934897  0.054662  0.056913   \n",
              "316   0.558356  0.445362  0.577121  0.419390  0.711356  0.372389  0.056048   \n",
              "3058  0.801846  0.269198  0.819545  0.795136  0.819254  0.086357  0.062483   \n",
              "\n",
              "          kurt    sp.ent       sfm  ...  centroid   meanfun    minfun  \\\n",
              "553   0.005041  0.773748  0.650084  ...  0.632757  0.198393  0.050357   \n",
              "216   0.001605  0.826119  0.585297  ...  0.652996  0.354916  0.047256   \n",
              "2373  0.003513  0.299454  0.130639  ...  0.945598  0.610983  0.197717   \n",
              "316   0.004304  0.800397  0.636284  ...  0.558356  0.296397  0.022796   \n",
              "3058  0.004624  0.517888  0.283671  ...  0.801846  0.821097  0.088787   \n",
              "\n",
              "        maxfun   meandom    mindom    maxdom   dfrange   modindx  label  \n",
              "553   0.929285  0.169830  0.006452  0.162259  0.162375  0.175168    1.0  \n",
              "216   0.954963  0.222150  0.195699  0.166905  0.163090  0.177426    1.0  \n",
              "2373  0.972570  0.707731  0.040860  0.528234  0.527897  0.122180    0.0  \n",
              "316   0.799959  0.388210  1.000000  0.181246  0.160721  0.387557    1.0  \n",
              "3058  0.871017  0.142949  0.451613  0.040297  0.031071  0.429398    0.0  \n",
              "\n",
              "[5 rows x 21 columns]"
            ],
            "text/html": [
              "\n",
              "  <div id=\"df-60e804c9-16ce-4a09-8f7b-7fd193dd9ab8\">\n",
              "    <div class=\"colab-df-container\">\n",
              "      <div>\n",
              "<style scoped>\n",
              "    .dataframe tbody tr th:only-of-type {\n",
              "        vertical-align: middle;\n",
              "    }\n",
              "\n",
              "    .dataframe tbody tr th {\n",
              "        vertical-align: top;\n",
              "    }\n",
              "\n",
              "    .dataframe thead th {\n",
              "        text-align: right;\n",
              "    }\n",
              "</style>\n",
              "<table border=\"1\" class=\"dataframe\">\n",
              "  <thead>\n",
              "    <tr style=\"text-align: right;\">\n",
              "      <th></th>\n",
              "      <th>meanfreq</th>\n",
              "      <th>sd</th>\n",
              "      <th>median</th>\n",
              "      <th>Q25</th>\n",
              "      <th>Q75</th>\n",
              "      <th>IQR</th>\n",
              "      <th>skew</th>\n",
              "      <th>kurt</th>\n",
              "      <th>sp.ent</th>\n",
              "      <th>sfm</th>\n",
              "      <th>...</th>\n",
              "      <th>centroid</th>\n",
              "      <th>meanfun</th>\n",
              "      <th>minfun</th>\n",
              "      <th>maxfun</th>\n",
              "      <th>meandom</th>\n",
              "      <th>mindom</th>\n",
              "      <th>maxdom</th>\n",
              "      <th>dfrange</th>\n",
              "      <th>modindx</th>\n",
              "      <th>label</th>\n",
              "    </tr>\n",
              "  </thead>\n",
              "  <tbody>\n",
              "    <tr>\n",
              "      <th>553</th>\n",
              "      <td>0.632757</td>\n",
              "      <td>0.524496</td>\n",
              "      <td>0.653215</td>\n",
              "      <td>0.442806</td>\n",
              "      <td>0.870848</td>\n",
              "      <td>0.502739</td>\n",
              "      <td>0.061808</td>\n",
              "      <td>0.005041</td>\n",
              "      <td>0.773748</td>\n",
              "      <td>0.650084</td>\n",
              "      <td>...</td>\n",
              "      <td>0.632757</td>\n",
              "      <td>0.198393</td>\n",
              "      <td>0.050357</td>\n",
              "      <td>0.929285</td>\n",
              "      <td>0.169830</td>\n",
              "      <td>0.006452</td>\n",
              "      <td>0.162259</td>\n",
              "      <td>0.162375</td>\n",
              "      <td>0.175168</td>\n",
              "      <td>1.0</td>\n",
              "    </tr>\n",
              "    <tr>\n",
              "      <th>216</th>\n",
              "      <td>0.652996</td>\n",
              "      <td>0.425988</td>\n",
              "      <td>0.654083</td>\n",
              "      <td>0.504866</td>\n",
              "      <td>0.803398</td>\n",
              "      <td>0.372790</td>\n",
              "      <td>0.030166</td>\n",
              "      <td>0.001605</td>\n",
              "      <td>0.826119</td>\n",
              "      <td>0.585297</td>\n",
              "      <td>...</td>\n",
              "      <td>0.652996</td>\n",
              "      <td>0.354916</td>\n",
              "      <td>0.047256</td>\n",
              "      <td>0.954963</td>\n",
              "      <td>0.222150</td>\n",
              "      <td>0.195699</td>\n",
              "      <td>0.166905</td>\n",
              "      <td>0.163090</td>\n",
              "      <td>0.177426</td>\n",
              "      <td>1.0</td>\n",
              "    </tr>\n",
              "    <tr>\n",
              "      <th>2373</th>\n",
              "      <td>0.945598</td>\n",
              "      <td>0.139861</td>\n",
              "      <td>0.936918</td>\n",
              "      <td>0.933495</td>\n",
              "      <td>0.934897</td>\n",
              "      <td>0.054662</td>\n",
              "      <td>0.056913</td>\n",
              "      <td>0.003513</td>\n",
              "      <td>0.299454</td>\n",
              "      <td>0.130639</td>\n",
              "      <td>...</td>\n",
              "      <td>0.945598</td>\n",
              "      <td>0.610983</td>\n",
              "      <td>0.197717</td>\n",
              "      <td>0.972570</td>\n",
              "      <td>0.707731</td>\n",
              "      <td>0.040860</td>\n",
              "      <td>0.528234</td>\n",
              "      <td>0.527897</td>\n",
              "      <td>0.122180</td>\n",
              "      <td>0.0</td>\n",
              "    </tr>\n",
              "    <tr>\n",
              "      <th>316</th>\n",
              "      <td>0.558356</td>\n",
              "      <td>0.445362</td>\n",
              "      <td>0.577121</td>\n",
              "      <td>0.419390</td>\n",
              "      <td>0.711356</td>\n",
              "      <td>0.372389</td>\n",
              "      <td>0.056048</td>\n",
              "      <td>0.004304</td>\n",
              "      <td>0.800397</td>\n",
              "      <td>0.636284</td>\n",
              "      <td>...</td>\n",
              "      <td>0.558356</td>\n",
              "      <td>0.296397</td>\n",
              "      <td>0.022796</td>\n",
              "      <td>0.799959</td>\n",
              "      <td>0.388210</td>\n",
              "      <td>1.000000</td>\n",
              "      <td>0.181246</td>\n",
              "      <td>0.160721</td>\n",
              "      <td>0.387557</td>\n",
              "      <td>1.0</td>\n",
              "    </tr>\n",
              "    <tr>\n",
              "      <th>3058</th>\n",
              "      <td>0.801846</td>\n",
              "      <td>0.269198</td>\n",
              "      <td>0.819545</td>\n",
              "      <td>0.795136</td>\n",
              "      <td>0.819254</td>\n",
              "      <td>0.086357</td>\n",
              "      <td>0.062483</td>\n",
              "      <td>0.004624</td>\n",
              "      <td>0.517888</td>\n",
              "      <td>0.283671</td>\n",
              "      <td>...</td>\n",
              "      <td>0.801846</td>\n",
              "      <td>0.821097</td>\n",
              "      <td>0.088787</td>\n",
              "      <td>0.871017</td>\n",
              "      <td>0.142949</td>\n",
              "      <td>0.451613</td>\n",
              "      <td>0.040297</td>\n",
              "      <td>0.031071</td>\n",
              "      <td>0.429398</td>\n",
              "      <td>0.0</td>\n",
              "    </tr>\n",
              "  </tbody>\n",
              "</table>\n",
              "<p>5 rows × 21 columns</p>\n",
              "</div>\n",
              "      <button class=\"colab-df-convert\" onclick=\"convertToInteractive('df-60e804c9-16ce-4a09-8f7b-7fd193dd9ab8')\"\n",
              "              title=\"Convert this dataframe to an interactive table.\"\n",
              "              style=\"display:none;\">\n",
              "        \n",
              "  <svg xmlns=\"http://www.w3.org/2000/svg\" height=\"24px\"viewBox=\"0 0 24 24\"\n",
              "       width=\"24px\">\n",
              "    <path d=\"M0 0h24v24H0V0z\" fill=\"none\"/>\n",
              "    <path d=\"M18.56 5.44l.94 2.06.94-2.06 2.06-.94-2.06-.94-.94-2.06-.94 2.06-2.06.94zm-11 1L8.5 8.5l.94-2.06 2.06-.94-2.06-.94L8.5 2.5l-.94 2.06-2.06.94zm10 10l.94 2.06.94-2.06 2.06-.94-2.06-.94-.94-2.06-.94 2.06-2.06.94z\"/><path d=\"M17.41 7.96l-1.37-1.37c-.4-.4-.92-.59-1.43-.59-.52 0-1.04.2-1.43.59L10.3 9.45l-7.72 7.72c-.78.78-.78 2.05 0 2.83L4 21.41c.39.39.9.59 1.41.59.51 0 1.02-.2 1.41-.59l7.78-7.78 2.81-2.81c.8-.78.8-2.07 0-2.86zM5.41 20L4 18.59l7.72-7.72 1.47 1.35L5.41 20z\"/>\n",
              "  </svg>\n",
              "      </button>\n",
              "      \n",
              "  <style>\n",
              "    .colab-df-container {\n",
              "      display:flex;\n",
              "      flex-wrap:wrap;\n",
              "      gap: 12px;\n",
              "    }\n",
              "\n",
              "    .colab-df-convert {\n",
              "      background-color: #E8F0FE;\n",
              "      border: none;\n",
              "      border-radius: 50%;\n",
              "      cursor: pointer;\n",
              "      display: none;\n",
              "      fill: #1967D2;\n",
              "      height: 32px;\n",
              "      padding: 0 0 0 0;\n",
              "      width: 32px;\n",
              "    }\n",
              "\n",
              "    .colab-df-convert:hover {\n",
              "      background-color: #E2EBFA;\n",
              "      box-shadow: 0px 1px 2px rgba(60, 64, 67, 0.3), 0px 1px 3px 1px rgba(60, 64, 67, 0.15);\n",
              "      fill: #174EA6;\n",
              "    }\n",
              "\n",
              "    [theme=dark] .colab-df-convert {\n",
              "      background-color: #3B4455;\n",
              "      fill: #D2E3FC;\n",
              "    }\n",
              "\n",
              "    [theme=dark] .colab-df-convert:hover {\n",
              "      background-color: #434B5C;\n",
              "      box-shadow: 0px 1px 3px 1px rgba(0, 0, 0, 0.15);\n",
              "      filter: drop-shadow(0px 1px 2px rgba(0, 0, 0, 0.3));\n",
              "      fill: #FFFFFF;\n",
              "    }\n",
              "  </style>\n",
              "\n",
              "      <script>\n",
              "        const buttonEl =\n",
              "          document.querySelector('#df-60e804c9-16ce-4a09-8f7b-7fd193dd9ab8 button.colab-df-convert');\n",
              "        buttonEl.style.display =\n",
              "          google.colab.kernel.accessAllowed ? 'block' : 'none';\n",
              "\n",
              "        async function convertToInteractive(key) {\n",
              "          const element = document.querySelector('#df-60e804c9-16ce-4a09-8f7b-7fd193dd9ab8');\n",
              "          const dataTable =\n",
              "            await google.colab.kernel.invokeFunction('convertToInteractive',\n",
              "                                                     [key], {});\n",
              "          if (!dataTable) return;\n",
              "\n",
              "          const docLinkHtml = 'Like what you see? Visit the ' +\n",
              "            '<a target=\"_blank\" href=https://colab.research.google.com/notebooks/data_table.ipynb>data table notebook</a>'\n",
              "            + ' to learn more about interactive tables.';\n",
              "          element.innerHTML = '';\n",
              "          dataTable['output_type'] = 'display_data';\n",
              "          await google.colab.output.renderOutput(dataTable, element);\n",
              "          const docLink = document.createElement('div');\n",
              "          docLink.innerHTML = docLinkHtml;\n",
              "          element.appendChild(docLink);\n",
              "        }\n",
              "      </script>\n",
              "    </div>\n",
              "  </div>\n",
              "  "
            ]
          },
          "metadata": {},
          "execution_count": 18
        }
      ]
    },
    {
      "cell_type": "code",
      "source": [
        "x_train = train.iloc[:, :-1]\n",
        "y_train = train[\"label\"]\n",
        "x_test = test.iloc[:, :-1]\n",
        "y_test = test[\"label\"]"
      ],
      "metadata": {
        "_uuid": "01c6142330ed1ac21db52dd832e8d14b4a51ec91",
        "trusted": true,
        "id": "AQSTWFl_YZ_5"
      },
      "execution_count": 19,
      "outputs": []
    },
    {
      "cell_type": "code",
      "source": [
        "x_train3 = train[[\"meanfun\",\"IQR\",\"Q25\"]]\n",
        "y_train3 = train[\"label\"]\n",
        "x_test3 = test[[\"meanfun\",\"IQR\",\"Q25\"]]\n",
        "y_test3 = test[\"label\"]"
      ],
      "metadata": {
        "_uuid": "2bd6aec294c52b30c4743002125da4e4e2c7a236",
        "trusted": true,
        "id": "CbDjyNTxYZ_5"
      },
      "execution_count": 20,
      "outputs": []
    },
    {
      "cell_type": "code",
      "source": [
        "def classify(model,x_train,y_train,x_test,y_test):\n",
        "    from sklearn.metrics import classification_report\n",
        "    target_names = ['female', 'male']\n",
        "    model.fit(x_train,y_train)\n",
        "    y_pred=model.predict(x_test)\n",
        "    print(classification_report(y_test, y_pred, target_names=target_names, digits=4))"
      ],
      "metadata": {
        "_uuid": "06e2d94c86bbb87fbb404f41199af473562dd3ce",
        "trusted": true,
        "id": "ITWkuYWLYZ_6"
      },
      "execution_count": 21,
      "outputs": []
    },
    {
      "cell_type": "markdown",
      "source": [
        "## K-Nearest Neighbors\n",
        "Using neighbors.KNeighborsClassifier() to build the model."
      ],
      "metadata": {
        "_uuid": "1245212f815e4854a590e8e81f8775e220553fcc",
        "id": "2jZg3MkIYZ_7"
      }
    },
    {
      "cell_type": "code",
      "source": [
        "def knn_error(k,x_train,y_train,x_test,y_test):\n",
        "    error_rate = []\n",
        "    K=range(1,k)\n",
        "    for i in K:\n",
        "        knn = neighbors.KNeighborsClassifier(n_neighbors = i)\n",
        "        knn.fit(x_train, y_train)\n",
        "        y_pred = knn.predict(x_test)\n",
        "        error_rate.append(np.mean(y_pred != y_test))\n",
        "    kloc = error_rate.index(min(error_rate))\n",
        "    print(\"Lowest error is %s occurs at k=%s.\" % (error_rate[kloc], K[kloc]))\n",
        "\n",
        "    plt.plot(K, error_rate, color='blue', linestyle='dashed', marker='o',\n",
        "             markerfacecolor='red', markersize=10)\n",
        "    plt.title('Error Rate vs. K Value')\n",
        "    plt.xlabel('K')\n",
        "    plt.ylabel('Error Rate')\n",
        "    plt.show()\n",
        "    return K[kloc]"
      ],
      "metadata": {
        "_uuid": "c28957bd07a357a385f7b3fb5c5c6630e5b8ef51",
        "trusted": true,
        "id": "bsLhrCE7YZ_7"
      },
      "execution_count": 22,
      "outputs": []
    },
    {
      "cell_type": "code",
      "source": [
        "k=knn_error(21,x_train,y_train,x_test,y_test)"
      ],
      "metadata": {
        "_uuid": "12db95c14b8359ef21411fa3bae4f8e36910b390",
        "trusted": true,
        "colab": {
          "base_uri": "https://localhost:8080/",
          "height": 313
        },
        "id": "h-5VC__LYZ_8",
        "outputId": "82c902d9-1512-4e30-c109-b9bdf2fe7dae"
      },
      "execution_count": 23,
      "outputs": [
        {
          "output_type": "stream",
          "name": "stdout",
          "text": [
            "Lowest error is 0.026288117770767613 occurs at k=4.\n"
          ]
        },
        {
          "output_type": "display_data",
          "data": {
            "text/plain": [
              "<Figure size 432x288 with 1 Axes>"
            ],
            "image/png": "[encoded data removed]"
          },
          "metadata": {
            "needs_background": "light"
          }
        }
      ]
    },
    {
      "cell_type": "code",
      "source": [
        "model = neighbors.KNeighborsClassifier(n_neighbors = k)\n",
        "classify(model,x_train,y_train,x_test,y_test)"
      ],
      "metadata": {
        "_uuid": "04045f8adb7d4f11bb105ae2339d411042944120",
        "trusted": true,
        "colab": {
          "base_uri": "https://localhost:8080/",
          "height": 0
        },
        "id": "7l0Y6UdCYZ_9",
        "outputId": "c8092af8-bd3b-4e28-c71b-7891c303107e"
      },
      "execution_count": 24,
      "outputs": [
        {
          "output_type": "stream",
          "name": "stdout",
          "text": [
            "              precision    recall  f1-score   support\n",
            "\n",
            "      female     0.9708    0.9769    0.9739       477\n",
            "        male     0.9766    0.9705    0.9735       474\n",
            "\n",
            "    accuracy                         0.9737       951\n",
            "   macro avg     0.9737    0.9737    0.9737       951\n",
            "weighted avg     0.9737    0.9737    0.9737       951\n",
            "\n"
          ]
        }
      ]
    },
    {
      "cell_type": "code",
      "source": [
        "k=knn_error(21,x_train3,y_train3,x_test3,y_test3)"
      ],
      "metadata": {
        "_uuid": "9ff5ae616d921334b6078b269fce5315e6aff198",
        "trusted": true,
        "colab": {
          "base_uri": "https://localhost:8080/",
          "height": 313
        },
        "id": "6AUqjT_CYZ_9",
        "outputId": "02930d5f-15bc-4957-cb64-80644fe8233a"
      },
      "execution_count": 25,
      "outputs": [
        {
          "output_type": "stream",
          "name": "stdout",
          "text": [
            "Lowest error is 0.027339642481598318 occurs at k=3.\n"
          ]
        },
        {
          "output_type": "display_data",
          "data": {
            "text/plain": [
              "<Figure size 432x288 with 1 Axes>"
            ],
            "image/png": "[encoded data removed]"
          },
          "metadata": {
            "needs_background": "light"
          }
        }
      ]
    },
    {
      "cell_type": "code",
      "source": [
        "model = neighbors.KNeighborsClassifier(n_neighbors = k)\n",
        "classify(model,x_train,y_train,x_test,y_test)"
      ],
      "metadata": {
        "_uuid": "a6673b594780364603ab4b2c7569e89fd2d300fa",
        "trusted": true,
        "colab": {
          "base_uri": "https://localhost:8080/",
          "height": 0
        },
        "id": "jXw3B-tMYZ_-",
        "outputId": "7e5d8bd1-b8dd-4131-9077-e172e56cc035"
      },
      "execution_count": 26,
      "outputs": [
        {
          "output_type": "stream",
          "name": "stdout",
          "text": [
            "              precision    recall  f1-score   support\n",
            "\n",
            "      female     0.9787    0.9644    0.9715       477\n",
            "        male     0.9647    0.9789    0.9717       474\n",
            "\n",
            "    accuracy                         0.9716       951\n",
            "   macro avg     0.9717    0.9716    0.9716       951\n",
            "weighted avg     0.9717    0.9716    0.9716       951\n",
            "\n"
          ]
        }
      ]
    },
    {
      "cell_type": "markdown",
      "source": [
        "## Naive Bayes\n",
        "Using naive_bayes.GaussianNB() to build the model."
      ],
      "metadata": {
        "_uuid": "7230fd72a64c9d5670906ec3c314b81c9e5b1c27",
        "id": "IWl5496iYZ__"
      }
    },
    {
      "cell_type": "code",
      "source": [
        "model=naive_bayes.GaussianNB()\n",
        "classify(model,x_train,y_train,x_test,y_test)"
      ],
      "metadata": {
        "_uuid": "8beb4625e6551e30c6a27f0beab11901515dc892",
        "trusted": true,
        "colab": {
          "base_uri": "https://localhost:8080/",
          "height": 0
        },
        "id": "M4H0imXnYZ__",
        "outputId": "382d366c-7d5b-45b7-de6b-92a77783377e"
      },
      "execution_count": 27,
      "outputs": [
        {
          "output_type": "stream",
          "name": "stdout",
          "text": [
            "              precision    recall  f1-score   support\n",
            "\n",
            "      female     0.8645    0.8826    0.8734       477\n",
            "        male     0.8793    0.8608    0.8699       474\n",
            "\n",
            "    accuracy                         0.8717       951\n",
            "   macro avg     0.8719    0.8717    0.8717       951\n",
            "weighted avg     0.8719    0.8717    0.8717       951\n",
            "\n"
          ]
        }
      ]
    },
    {
      "cell_type": "code",
      "source": [
        "model=naive_bayes.GaussianNB()\n",
        "classify(model,x_train3,y_train3,x_test3,y_test3)"
      ],
      "metadata": {
        "_uuid": "71535d01e7eedb6d106edcb9fef4806a84f771ec",
        "trusted": true,
        "colab": {
          "base_uri": "https://localhost:8080/",
          "height": 0
        },
        "id": "yG3ZBa7UYaAA",
        "outputId": "f7af0b44-f42b-49a2-f71b-540906c1076e"
      },
      "execution_count": 28,
      "outputs": [
        {
          "output_type": "stream",
          "name": "stdout",
          "text": [
            "              precision    recall  f1-score   support\n",
            "\n",
            "      female     0.9661    0.9560    0.9610       477\n",
            "        male     0.9562    0.9662    0.9612       474\n",
            "\n",
            "    accuracy                         0.9611       951\n",
            "   macro avg     0.9611    0.9611    0.9611       951\n",
            "weighted avg     0.9611    0.9611    0.9611       951\n",
            "\n"
          ]
        }
      ]
    },
    {
      "cell_type": "markdown",
      "source": [
        "## Decision Tree\n",
        "Using tree.DecisionTreeClassifier() to build the model."
      ],
      "metadata": {
        "_uuid": "a67d4259bc76a4a773fa1edef2de80cca35cd364",
        "id": "oDL_q_o1YaAA"
      }
    },
    {
      "cell_type": "code",
      "source": [
        "#Find the best parameter to prune the tree\n",
        "def dt_error(n,x_train,y_train,x_test,y_test):\n",
        "    nodes = range(2, n)\n",
        "    error_rate = []\n",
        "    for k in nodes:\n",
        "        model = tree.DecisionTreeClassifier(max_leaf_nodes=k)\n",
        "        model.fit(x_train, y_train)\n",
        "        y_pred = model.predict(x_test)\n",
        "        error_rate.append(np.mean(y_pred != y_test))\n",
        "    kloc = error_rate.index(min(error_rate))\n",
        "    print(\"Lowest error is %s occurs at n=%s.\" % (error_rate[kloc], nodes[kloc]))\n",
        "    plt.plot(nodes, error_rate, color='blue', linestyle='dashed', marker='o',\n",
        "             markerfacecolor='red', markersize=10)\n",
        "    plt.xlabel('Tree Size')\n",
        "    plt.ylabel('Cross-Validated MSE')\n",
        "    plt.show()\n",
        "    return nodes[kloc]"
      ],
      "metadata": {
        "_uuid": "a4a8ad5d33e2ee2c10ae0cf4196a3698cc888db5",
        "trusted": true,
        "id": "8cbDfGtEYaAB"
      },
      "execution_count": 29,
      "outputs": []
    },
    {
      "cell_type": "code",
      "source": [
        "n=dt_error(10,x_train,y_train,x_test,y_test)"
      ],
      "metadata": {
        "_uuid": "af8229e428283c3e6254c8c3ffc74a717f48f248",
        "trusted": true,
        "colab": {
          "base_uri": "https://localhost:8080/",
          "height": 297
        },
        "id": "6EUC2biHYaAB",
        "outputId": "9a65c348-89d2-4064-8ac8-cf1be3defbab"
      },
      "execution_count": 30,
      "outputs": [
        {
          "output_type": "stream",
          "name": "stdout",
          "text": [
            "Lowest error is 0.033648790746582544 occurs at n=7.\n"
          ]
        },
        {
          "output_type": "display_data",
          "data": {
            "text/plain": [
              "<Figure size 432x288 with 1 Axes>"
            ],
            "image/png": "[encoded data removed]"
          },
          "metadata": {
            "needs_background": "light"
          }
        }
      ]
    },
    {
      "cell_type": "code",
      "source": [
        "#prune tree\n",
        "pruned_tree = tree.DecisionTreeClassifier(criterion = 'gini', max_leaf_nodes = n)\n",
        "classify(pruned_tree,x_train,y_train,x_test,y_test)"
      ],
      "metadata": {
        "_uuid": "54c055d4acd416dae177ee7475aa5603cf0e9c50",
        "trusted": true,
        "colab": {
          "base_uri": "https://localhost:8080/",
          "height": 0
        },
        "id": "T5_W1YURYaAC",
        "outputId": "206a3261-2da4-4e4a-9f0f-2a20028093cc"
      },
      "execution_count": 31,
      "outputs": [
        {
          "output_type": "stream",
          "name": "stdout",
          "text": [
            "              precision    recall  f1-score   support\n",
            "\n",
            "      female     0.9704    0.9623    0.9663       477\n",
            "        male     0.9623    0.9705    0.9664       474\n",
            "\n",
            "    accuracy                         0.9664       951\n",
            "   macro avg     0.9664    0.9664    0.9664       951\n",
            "weighted avg     0.9664    0.9664    0.9664       951\n",
            "\n"
          ]
        }
      ]
    },
    {
      "cell_type": "code",
      "source": [
        "n=dt_error(15,x_train3,y_train3,x_test3,y_test3)"
      ],
      "metadata": {
        "_uuid": "3d952f002e7a8f332b5981ba536d245d8fb5f996",
        "trusted": true,
        "colab": {
          "base_uri": "https://localhost:8080/",
          "height": 297
        },
        "id": "Y5FdtSbwYaAC",
        "outputId": "9af7f6ab-34ce-401d-8623-2e4dc15579cc"
      },
      "execution_count": 32,
      "outputs": [
        {
          "output_type": "stream",
          "name": "stdout",
          "text": [
            "Lowest error is 0.03259726603575184 occurs at n=7.\n"
          ]
        },
        {
          "output_type": "display_data",
          "data": {
            "text/plain": [
              "<Figure size 432x288 with 1 Axes>"
            ],
            "image/png": "[encoded data removed]"
          },
          "metadata": {
            "needs_background": "light"
          }
        }
      ]
    },
    {
      "cell_type": "code",
      "source": [
        "#prune tree\n",
        "pruned_tree = tree.DecisionTreeClassifier(criterion = 'gini', max_leaf_nodes = n)\n",
        "classify(pruned_tree,x_train3,y_train3,x_test3,y_test3)"
      ],
      "metadata": {
        "_uuid": "da7411ddc1ddfa28b78abffbb482bb146c521ce5",
        "trusted": true,
        "colab": {
          "base_uri": "https://localhost:8080/",
          "height": 0
        },
        "id": "F7WxcXHzYaAD",
        "outputId": "c7d368da-6a36-4145-8b50-bdf4442cb345"
      },
      "execution_count": 33,
      "outputs": [
        {
          "output_type": "stream",
          "name": "stdout",
          "text": [
            "              precision    recall  f1-score   support\n",
            "\n",
            "      female     0.9705    0.9644    0.9674       477\n",
            "        male     0.9644    0.9705    0.9674       474\n",
            "\n",
            "    accuracy                         0.9674       951\n",
            "   macro avg     0.9674    0.9674    0.9674       951\n",
            "weighted avg     0.9674    0.9674    0.9674       951\n",
            "\n"
          ]
        }
      ]
    },
    {
      "cell_type": "markdown",
      "source": [
        "## Random Forest\n",
        "Using ensemble.RandomForestClassifier() to build the model."
      ],
      "metadata": {
        "_uuid": "46a4988ac7ad003d816312ecfd64f00b8c67c039",
        "id": "WMEgnJPnYaAD"
      }
    },
    {
      "cell_type": "code",
      "source": [
        "def rf_error(n,x_train,y_train,x_test,y_test):\n",
        "    error_rate = []\n",
        "    e=range(1,n,20)\n",
        "    for i in e:\n",
        "        model = ensemble.RandomForestClassifier(n_estimators = i)\n",
        "        model.fit(x_train, y_train)\n",
        "        y_pred = model.predict(x_test)\n",
        "        error_rate.append(np.mean(y_pred != y_test))\n",
        "    nloc = error_rate.index(min(error_rate))\n",
        "    print(\"Lowest error is %s occurs at n=%s.\" % (error_rate[nloc], e[nloc]))\n",
        "\n",
        "    plt.plot(e, error_rate, color='blue', linestyle='dashed', marker='o',\n",
        "             markerfacecolor='red', markersize=10)\n",
        "    plt.title('Error Rate vs. n Value')\n",
        "    plt.xlabel('n')\n",
        "    plt.ylabel('Error Rate')\n",
        "    plt.show()\n",
        "    return e[nloc]"
      ],
      "metadata": {
        "_uuid": "2fc71fce9ffd6cb0ab72c121f64c58543d4a0e46",
        "trusted": true,
        "id": "If9CWsgqYaAE"
      },
      "execution_count": 34,
      "outputs": []
    },
    {
      "cell_type": "code",
      "source": [
        "e=rf_error(100,x_train,y_train,x_test,y_test)"
      ],
      "metadata": {
        "_uuid": "089b35675746b29a608ccacb4fcfd4f927b289ff",
        "trusted": true,
        "colab": {
          "base_uri": "https://localhost:8080/",
          "height": 313
        },
        "id": "jjLGlBWDYaAF",
        "outputId": "e31621eb-c740-4d9d-d285-f73434c90029"
      },
      "execution_count": 35,
      "outputs": [
        {
          "output_type": "stream",
          "name": "stdout",
          "text": [
            "Lowest error is 0.026288117770767613 occurs at n=61.\n"
          ]
        },
        {
          "output_type": "display_data",
          "data": {
            "text/plain": [
              "<Figure size 432x288 with 1 Axes>"
            ],
            "image/png": "[encoded data removed]"
          },
          "metadata": {
            "needs_background": "light"
          }
        }
      ]
    },
    {
      "cell_type": "code",
      "source": [
        "model=ensemble.RandomForestClassifier(n_estimators = e)\n",
        "classify(model,x_train,y_train,x_test,y_test)"
      ],
      "metadata": {
        "_uuid": "3aab2b9d4f745267e4e6750743c85087a8d21768",
        "trusted": true,
        "colab": {
          "base_uri": "https://localhost:8080/",
          "height": 0
        },
        "id": "ohRBRlIUYaAF",
        "outputId": "818da6a2-fa1d-4f5c-db9f-9523dced152f"
      },
      "execution_count": 36,
      "outputs": [
        {
          "output_type": "stream",
          "name": "stdout",
          "text": [
            "              precision    recall  f1-score   support\n",
            "\n",
            "      female     0.9748    0.9748    0.9748       477\n",
            "        male     0.9747    0.9747    0.9747       474\n",
            "\n",
            "    accuracy                         0.9748       951\n",
            "   macro avg     0.9748    0.9748    0.9748       951\n",
            "weighted avg     0.9748    0.9748    0.9748       951\n",
            "\n"
          ]
        }
      ]
    },
    {
      "cell_type": "code",
      "source": [
        "e=rf_error(100,x_train3,y_train3,x_test3,y_test3)"
      ],
      "metadata": {
        "_uuid": "6c8c329facf1f45557324e65e33972f8ad5fe163",
        "trusted": true,
        "colab": {
          "base_uri": "https://localhost:8080/",
          "height": 313
        },
        "id": "-ZwcXZV7YaAG",
        "outputId": "da411871-359f-4d3c-97cb-6932f441a381"
      },
      "execution_count": 37,
      "outputs": [
        {
          "output_type": "stream",
          "name": "stdout",
          "text": [
            "Lowest error is 0.03259726603575184 occurs at n=41.\n"
          ]
        },
        {
          "output_type": "display_data",
          "data": {
            "text/plain": [
              "<Figure size 432x288 with 1 Axes>"
            ],
            "image/png": "[encoded data removed]"
          },
          "metadata": {
            "needs_background": "light"
          }
        }
      ]
    },
    {
      "cell_type": "code",
      "source": [
        "model=ensemble.RandomForestClassifier(n_estimators = e)\n",
        "classify(model,x_train3,y_train3,x_test3,y_test3)"
      ],
      "metadata": {
        "_uuid": "7bb4b71e9ddd155114b8a57f053d8ec49cc38d8f",
        "trusted": true,
        "colab": {
          "base_uri": "https://localhost:8080/",
          "height": 0
        },
        "id": "ynSMM1o1YaAG",
        "outputId": "f14482ee-4037-4bd5-d088-926508d1c63f"
      },
      "execution_count": 38,
      "outputs": [
        {
          "output_type": "stream",
          "name": "stdout",
          "text": [
            "              precision    recall  f1-score   support\n",
            "\n",
            "      female     0.9705    0.9644    0.9674       477\n",
            "        male     0.9644    0.9705    0.9674       474\n",
            "\n",
            "    accuracy                         0.9674       951\n",
            "   macro avg     0.9674    0.9674    0.9674       951\n",
            "weighted avg     0.9674    0.9674    0.9674       951\n",
            "\n"
          ]
        }
      ]
    },
    {
      "cell_type": "markdown",
      "source": [
        "## XgBoost\n",
        "Using xgboost.XGBClassifier() to build the model."
      ],
      "metadata": {
        "_uuid": "dd8997fc20c7d47ebf1dd0acd2099c54c35ab90f",
        "id": "whg5F48DYaAH"
      }
    },
    {
      "cell_type": "code",
      "source": [
        "model = xgboost.XGBClassifier()\n",
        "classify(model,x_train,y_train,x_test,y_test)"
      ],
      "metadata": {
        "_uuid": "8f620ed8ffd579ae81ae0c192c5ad237d3231d90",
        "trusted": true,
        "colab": {
          "base_uri": "https://localhost:8080/",
          "height": 0
        },
        "id": "uocGpMYmYaAH",
        "outputId": "64e9f58b-9bb8-4409-acfa-19410f1ec12d"
      },
      "execution_count": 39,
      "outputs": [
        {
          "output_type": "stream",
          "name": "stdout",
          "text": [
            "              precision    recall  f1-score   support\n",
            "\n",
            "      female     0.9729    0.9790    0.9760       477\n",
            "        male     0.9788    0.9726    0.9757       474\n",
            "\n",
            "    accuracy                         0.9758       951\n",
            "   macro avg     0.9758    0.9758    0.9758       951\n",
            "weighted avg     0.9758    0.9758    0.9758       951\n",
            "\n"
          ]
        }
      ]
    },
    {
      "cell_type": "code",
      "source": [
        "model = xgboost.XGBClassifier()\n",
        "classify(model,x_train3,y_train3,x_test3,y_test3)"
      ],
      "metadata": {
        "_uuid": "2ddab8a4cb2ca7f0b01982d648e475b197b134dd",
        "trusted": true,
        "colab": {
          "base_uri": "https://localhost:8080/",
          "height": 0
        },
        "id": "yqWEvOgcYaAI",
        "outputId": "88231cf6-cb3a-433c-d061-e5341b6a5546"
      },
      "execution_count": 40,
      "outputs": [
        {
          "output_type": "stream",
          "name": "stdout",
          "text": [
            "              precision    recall  f1-score   support\n",
            "\n",
            "      female     0.9703    0.9602    0.9652       477\n",
            "        male     0.9603    0.9705    0.9654       474\n",
            "\n",
            "    accuracy                         0.9653       951\n",
            "   macro avg     0.9653    0.9653    0.9653       951\n",
            "weighted avg     0.9654    0.9653    0.9653       951\n",
            "\n"
          ]
        }
      ]
    },
    {
      "cell_type": "markdown",
      "source": [
        "## Support Vector Machine\n",
        "Using svm.SVC() to build the model."
      ],
      "metadata": {
        "_uuid": "34c7370162c458860e4482c5603251a1beea8a79",
        "id": "Z_oSrWbxYaAI"
      }
    },
    {
      "cell_type": "code",
      "source": [
        "def svm_kernel(x_train,y_train,x_test,y_test):\n",
        "    rate=[]\n",
        "    kernel=['rbf','poly','linear']\n",
        "    for i in kernel:\n",
        "        model=svm.SVC(kernel=i).fit(x_train,y_train)\n",
        "        y_pred=model.predict(x_train)\n",
        "        print(i, ' in-sample accuracy in SVM: ', accuracy_score(y_train,y_pred))\n",
        "        y_pred=model.predict(x_test)\n",
        "        print(i, ' out-of-sample accuracy in SVM: ', accuracy_score(y_test,y_pred))\n",
        "        rate.append(accuracy_score(y_test,y_pred))\n",
        "    nloc = rate.index(max(rate))\n",
        "    print(\"Highest accuracy is %s occurs at %s kernel.\" % (rate[nloc], kernel[nloc]))\n",
        "    return kernel[nloc]"
      ],
      "metadata": {
        "_uuid": "08f613ebc0246c91fcbc3bac0d5c3d98f926fd53",
        "trusted": true,
        "id": "c3QeHtRjYaAJ"
      },
      "execution_count": 41,
      "outputs": []
    },
    {
      "cell_type": "code",
      "source": [
        "def svm_error(k,C,x_train,y_train,x_test,y_test):\n",
        "    error_rate = []\n",
        "    C=range(1,C)\n",
        "    for i in C:\n",
        "        model=svm.SVC(kernel=k,C=i).fit(x_train,y_train)\n",
        "        model.fit(x_train, y_train)\n",
        "        y_pred = model.predict(x_test)\n",
        "        error_rate.append(np.mean(y_pred != y_test))\n",
        "    cloc = error_rate.index(min(error_rate))\n",
        "    print(\"Lowest error is %s occurs at C=%s.\" % (error_rate[cloc], C[cloc]))\n",
        "\n",
        "    plt.plot(C, error_rate, color='blue', linestyle='dashed', marker='o',\n",
        "             markerfacecolor='red', markersize=10)\n",
        "    plt.title('Error Rate vs. C Value')\n",
        "    plt.xlabel('C')\n",
        "    plt.ylabel('Error Rate')\n",
        "    plt.show()\n",
        "    return C[cloc]"
      ],
      "metadata": {
        "_uuid": "24e66b1e5dfa56f7412c8838cbe8a3c8adc715b2",
        "trusted": true,
        "id": "KlDOsHkJYaAJ"
      },
      "execution_count": 42,
      "outputs": []
    },
    {
      "cell_type": "code",
      "source": [
        "k=svm_kernel(x_train,y_train,x_test,y_test)"
      ],
      "metadata": {
        "_uuid": "44e8e2489c6fa478855fc0b0bd51cf974b5bda95",
        "trusted": true,
        "colab": {
          "base_uri": "https://localhost:8080/",
          "height": 0
        },
        "id": "B-rJO_eFYaAK",
        "outputId": "49dd6ae8-c04d-4d71-e8c2-bd6448206d35"
      },
      "execution_count": 43,
      "outputs": [
        {
          "output_type": "stream",
          "name": "stdout",
          "text": [
            "rbf  in-sample accuracy in SVM:  0.979702300405954\n",
            "rbf  out-of-sample accuracy in SVM:  0.9674027339642481\n",
            "poly  in-sample accuracy in SVM:  0.9828597203428056\n",
            "poly  out-of-sample accuracy in SVM:  0.9747634069400631\n",
            "linear  in-sample accuracy in SVM:  0.9769959404600812\n",
            "linear  out-of-sample accuracy in SVM:  0.9726603575184016\n",
            "Highest accuracy is 0.9747634069400631 occurs at poly kernel.\n"
          ]
        }
      ]
    },
    {
      "cell_type": "code",
      "source": [
        "c=svm_error(k,10,x_train,y_train,x_test,y_test)"
      ],
      "metadata": {
        "_uuid": "5f4eeafdcc4adb58e3c1b0e36f8aad6cdfa8c5bb",
        "trusted": true,
        "colab": {
          "base_uri": "https://localhost:8080/",
          "height": 313
        },
        "id": "sZa27nzsYaAK",
        "outputId": "1360f05a-a24e-4f57-9979-1c13c928c6ea"
      },
      "execution_count": 44,
      "outputs": [
        {
          "output_type": "stream",
          "name": "stdout",
          "text": [
            "Lowest error is 0.025236593059936908 occurs at C=1.\n"
          ]
        },
        {
          "output_type": "display_data",
          "data": {
            "text/plain": [
              "<Figure size 432x288 with 1 Axes>"
            ],
            "image/png": "[encoded data removed]"
          },
          "metadata": {
            "needs_background": "light"
          }
        }
      ]
    },
    {
      "cell_type": "code",
      "source": [
        "model=svm.SVC(kernel=k,C=c)\n",
        "classify(model,x_train,y_train,x_test,y_test)"
      ],
      "metadata": {
        "_uuid": "b57af1c5acc2d6bb749a9f12d0f78929be0baa6c",
        "trusted": true,
        "colab": {
          "base_uri": "https://localhost:8080/",
          "height": 0
        },
        "id": "A1DpDwZCYaAL",
        "outputId": "f9d92998-ca60-4682-9754-e1e95a4bdb1f"
      },
      "execution_count": 45,
      "outputs": [
        {
          "output_type": "stream",
          "name": "stdout",
          "text": [
            "              precision    recall  f1-score   support\n",
            "\n",
            "      female     0.9729    0.9769    0.9749       477\n",
            "        male     0.9767    0.9726    0.9746       474\n",
            "\n",
            "    accuracy                         0.9748       951\n",
            "   macro avg     0.9748    0.9748    0.9748       951\n",
            "weighted avg     0.9748    0.9748    0.9748       951\n",
            "\n"
          ]
        }
      ]
    },
    {
      "cell_type": "code",
      "source": [
        "k=svm_kernel(x_train3,y_train3,x_test3,y_test3)"
      ],
      "metadata": {
        "_uuid": "83338e6607af41d53d272376d0295ba399d46ab9",
        "trusted": true,
        "colab": {
          "base_uri": "https://localhost:8080/",
          "height": 0
        },
        "id": "A_CQec3uYaAL",
        "outputId": "97b12b30-b87b-48da-9dc0-fbaf16e8199e"
      },
      "execution_count": 46,
      "outputs": [
        {
          "output_type": "stream",
          "name": "stdout",
          "text": [
            "rbf  in-sample accuracy in SVM:  0.9760938204781235\n",
            "rbf  out-of-sample accuracy in SVM:  0.9621451104100947\n",
            "poly  in-sample accuracy in SVM:  0.9738385205232296\n",
            "poly  out-of-sample accuracy in SVM:  0.9631966351209253\n",
            "linear  in-sample accuracy in SVM:  0.9693279206134416\n",
            "linear  out-of-sample accuracy in SVM:  0.9589905362776026\n",
            "Highest accuracy is 0.9631966351209253 occurs at poly kernel.\n"
          ]
        }
      ]
    },
    {
      "cell_type": "code",
      "source": [
        "c=svm_error(k,10,x_train3,y_train3,x_test3,y_test3)"
      ],
      "metadata": {
        "_uuid": "e6e5c9857c5c254adcc3db090add93286c5e6eb5",
        "trusted": true,
        "colab": {
          "base_uri": "https://localhost:8080/",
          "height": 313
        },
        "id": "iTu7Nm5XYaAM",
        "outputId": "16be9ef0-40ea-4dea-9c6f-1d8a4c319d79"
      },
      "execution_count": 47,
      "outputs": [
        {
          "output_type": "stream",
          "name": "stdout",
          "text": [
            "Lowest error is 0.03680336487907466 occurs at C=1.\n"
          ]
        },
        {
          "output_type": "display_data",
          "data": {
            "text/plain": [
              "<Figure size 432x288 with 1 Axes>"
            ],
            "image/png": "[encoded data removed]"
          },
          "metadata": {
            "needs_background": "light"
          }
        }
      ]
    },
    {
      "cell_type": "code",
      "source": [
        "model=svm.SVC(kernel=k,C=c)\n",
        "classify(model,x_train3,y_train3,x_test3,y_test3)"
      ],
      "metadata": {
        "_uuid": "bd6da99232ae6ef54464deb33e97693667c2ca73",
        "trusted": true,
        "colab": {
          "base_uri": "https://localhost:8080/",
          "height": 0
        },
        "id": "lo3XkfTDYaAM",
        "outputId": "64e8e013-5bc8-4dc6-990c-8c1bbfd364ba"
      },
      "execution_count": 48,
      "outputs": [
        {
          "output_type": "stream",
          "name": "stdout",
          "text": [
            "              precision    recall  f1-score   support\n",
            "\n",
            "      female     0.9722    0.9539    0.9630       477\n",
            "        male     0.9545    0.9726    0.9634       474\n",
            "\n",
            "    accuracy                         0.9632       951\n",
            "   macro avg     0.9633    0.9632    0.9632       951\n",
            "weighted avg     0.9634    0.9632    0.9632       951\n",
            "\n"
          ]
        }
      ]
    },
    {
      "cell_type": "markdown",
      "source": [
        "## Neural Network\n",
        "Using neural_network.MLPClassifier to build the model."
      ],
      "metadata": {
        "_uuid": "c23858a034bc9f92745dbf689aa8a975999581f1",
        "id": "mb0MPN65YaAN"
      }
    },
    {
      "cell_type": "code",
      "source": [
        "def nn_error(n,x_train,y_train,x_test,y_test):\n",
        "    error_rate = []\n",
        "    hidden_layer=range(1,n)\n",
        "    for i in hidden_layer:\n",
        "        model = neural_network.MLPClassifier(solver='adam', alpha=1e-5,\n",
        "                                       hidden_layer_sizes=i,\n",
        "                                       activation='logistic',random_state=17,\n",
        "                                       max_iter=2000)\n",
        "        model.fit(x_train, y_train)\n",
        "        y_pred = model.predict(x_test)\n",
        "        error_rate.append(np.mean(y_pred != y_test))\n",
        "    kloc = error_rate.index(min(error_rate))\n",
        "    print(\"Lowest error is %s occurs at C=%s.\" % (error_rate[kloc], hidden_layer[kloc]))\n",
        "\n",
        "    plt.plot(hidden_layer, error_rate, color='blue', linestyle='dashed', marker='o',\n",
        "             markerfacecolor='red', markersize=10)\n",
        "    plt.title('Error Rate vs. Hidden Layer Size')\n",
        "    plt.xlabel('Size')\n",
        "    plt.ylabel('Error Rate')\n",
        "    plt.show()\n",
        "    return hidden_layer[kloc]"
      ],
      "metadata": {
        "_uuid": "2da26483ae2626a956fb99a724ee1e23975bc800",
        "trusted": true,
        "id": "HM3boygdYaAN"
      },
      "execution_count": 49,
      "outputs": []
    },
    {
      "cell_type": "code",
      "source": [
        "h=nn_error(20,x_train,y_train,x_test,y_test)"
      ],
      "metadata": {
        "_uuid": "b20c9304c6d87c194020471ae3c7af05c3cfee97",
        "trusted": true,
        "colab": {
          "base_uri": "https://localhost:8080/",
          "height": 313
        },
        "id": "u1QQAc_WYaAO",
        "outputId": "185e9f40-ccdd-411e-90e8-74bca3972d17"
      },
      "execution_count": 50,
      "outputs": [
        {
          "output_type": "stream",
          "name": "stdout",
          "text": [
            "Lowest error is 0.030494216614090432 occurs at C=14.\n"
          ]
        },
        {
          "output_type": "display_data",
          "data": {
            "text/plain": [
              "<Figure size 432x288 with 1 Axes>"
            ],
            "image/png": "[encoded data removed]"
          },
          "metadata": {
            "needs_background": "light"
          }
        }
      ]
    },
    {
      "cell_type": "code",
      "source": [
        "model = neural_network.MLPClassifier(solver='adam', alpha=1e-5,\n",
        "                                       hidden_layer_sizes=h,\n",
        "                                       activation='logistic',random_state=17,\n",
        "                                       max_iter=2000)\n",
        "classify(model,x_train,y_train,x_test,y_test)"
      ],
      "metadata": {
        "_uuid": "71872aedd78f1b82bb97b01fe01d69cee119fc67",
        "trusted": true,
        "colab": {
          "base_uri": "https://localhost:8080/",
          "height": 0
        },
        "id": "Favsmm1RYaAO",
        "outputId": "141f0251-00eb-4fa9-d1bc-841fff4fdcb8"
      },
      "execution_count": 51,
      "outputs": [
        {
          "output_type": "stream",
          "name": "stdout",
          "text": [
            "              precision    recall  f1-score   support\n",
            "\n",
            "      female     0.9647    0.9748    0.9698       477\n",
            "        male     0.9744    0.9641    0.9692       474\n",
            "\n",
            "    accuracy                         0.9695       951\n",
            "   macro avg     0.9696    0.9695    0.9695       951\n",
            "weighted avg     0.9696    0.9695    0.9695       951\n",
            "\n"
          ]
        }
      ]
    },
    {
      "cell_type": "code",
      "source": [
        "h=nn_error(20,x_train3,y_train3,x_test3,y_test3)"
      ],
      "metadata": {
        "_uuid": "c2bae0868755af334360d923b59dc57723eaadca",
        "trusted": true,
        "colab": {
          "base_uri": "https://localhost:8080/",
          "height": 313
        },
        "id": "AGPIteTyYaAO",
        "outputId": "bdd1867d-8f66-4abe-c2a7-2fbd6e70f8d8"
      },
      "execution_count": 52,
      "outputs": [
        {
          "output_type": "stream",
          "name": "stdout",
          "text": [
            "Lowest error is 0.03995793901156677 occurs at C=13.\n"
          ]
        },
        {
          "output_type": "display_data",
          "data": {
            "text/plain": [
              "<Figure size 432x288 with 1 Axes>"
            ],
            "image/png": "[encoded data removed]"
          },
          "metadata": {
            "needs_background": "light"
          }
        }
      ]
    },
    {
      "cell_type": "code",
      "source": [
        "model = neural_network.MLPClassifier(solver='adam', alpha=1e-5,\n",
        "                                       hidden_layer_sizes=h,\n",
        "                                       activation='logistic',random_state=17,\n",
        "                                       max_iter=2000)\n",
        "classify(model,x_train3,y_train3,x_test3,y_test3)"
      ],
      "metadata": {
        "_uuid": "371a5ed6e7b31ca3caf282e93b641e39b0f18e2d",
        "trusted": true,
        "colab": {
          "base_uri": "https://localhost:8080/",
          "height": 0
        },
        "id": "7PYhyce1YaAO",
        "outputId": "7314a6ed-3d11-4aed-aa66-71274480af74"
      },
      "execution_count": 53,
      "outputs": [
        {
          "output_type": "stream",
          "name": "stdout",
          "text": [
            "              precision    recall  f1-score   support\n",
            "\n",
            "      female     0.9741    0.9455    0.9596       477\n",
            "        male     0.9467    0.9747    0.9605       474\n",
            "\n",
            "    accuracy                         0.9600       951\n",
            "   macro avg     0.9604    0.9601    0.9600       951\n",
            "weighted avg     0.9604    0.9600    0.9600       951\n",
            "\n"
          ]
        }
      ]
    },
    {
      "cell_type": "markdown",
      "source": [
        "We can see that the highest accurracy is 98.74% "
      ],
      "metadata": {
        "_uuid": "8b80a08a7a1beb133c01cbca921b199ba4f1c8b1",
        "id": "hIJqOwL7YaAP"
      }
    },
    {
      "cell_type": "code",
      "source": [],
      "metadata": {
        "_uuid": "19d364d29be43bc856b31f0ddec1d5a50a88e2c5",
        "trusted": true,
        "id": "bNQVbxPdYaAP"
      },
      "execution_count": 53,
      "outputs": []
    }
  ]
}